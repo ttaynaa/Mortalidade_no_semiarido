{
 "cells": [
  {
   "cell_type": "markdown",
   "id": "8214630f",
   "metadata": {},
   "source": [
    "# ESPIRITO SANTO  "
   ]
  },
  {
   "cell_type": "code",
   "execution_count": 1,
   "id": "168cc9a6",
   "metadata": {},
   "outputs": [
    {
     "name": "stdout",
     "output_type": "stream",
     "text": [
      "Requirement already satisfied: xlsxwriter in c:\\programdata\\anaconda3\\lib\\site-packages (3.1.9)Note: you may need to restart the kernel to use updated packages.\n",
      "\n"
     ]
    }
   ],
   "source": [
    "pip install xlsxwriter\n"
   ]
  },
  {
   "cell_type": "code",
   "execution_count": 2,
   "id": "b7ebf011",
   "metadata": {},
   "outputs": [
    {
     "data": {
      "text/plain": [
       "'C:\\\\Users\\\\Administrador\\\\Documents\\\\PIBIC\\\\_SCHENIA_2023_2024\\\\2_dados extraidos\\\\Causas cid-10'"
      ]
     },
     "execution_count": 2,
     "metadata": {},
     "output_type": "execute_result"
    }
   ],
   "source": [
    "import os\n",
    "import pandas as pd\n",
    "\n",
    "os.getcwd() # verifica o diretorio"
   ]
  },
  {
   "cell_type": "markdown",
   "id": "f7402fe3",
   "metadata": {},
   "source": [
    "**Funções**\n",
    " "
   ]
  },
  {
   "cell_type": "code",
   "execution_count": 3,
   "id": "1c538d1f",
   "metadata": {},
   "outputs": [],
   "source": [
    "# Ler arquivos no formato que já vem do tabnet ------------------------------------------------------------------------------\n",
    "\n",
    "def ler_processar_arquivo_csv(caminho_arquivo):\n",
    "    # Leitura do arquivo CSV com delimitador \";\" e primeira linha como cabeçalho\n",
    "    df = pd.read_csv(caminho_arquivo, delimiter=';', header=0, skiprows=5, encoding='ISO-8859-1')\n",
    "    \n",
    "    # Encontra o índice da linha onde está a string 'Total' na coluna 'Causa - CID-BR-10'\n",
    "    total_index = df[df['Causa - CID-BR-10'] == 'Total'].index[0]\n",
    "\n",
    "    # Exclui todas as linhas a partir do índice onde está a string 'Total'\n",
    "    df = df.iloc[:total_index]\n",
    "\n",
    "    # Muda o formato do dado\n",
    "    df = pd.concat([df.iloc[:, 0], df.iloc[:, 1:].apply(pd.to_numeric, errors='coerce').astype('Int64')], axis=1)\n",
    "\n",
    "    return df\n",
    "\n",
    "# Padronizando os arquivos com a mesma quantidade de colunas -----------------------------------------------------------------\n",
    "\n",
    "# Colunas desejadas\n",
    "colunas_desejadas = ['0 a 6 dias', '7 a 27 dias', '28 a 364 dias', '1 a 4 anos', '5 a 9 anos', '10 a 14 anos',\n",
    "                     '15 a 19 anos', '20 a 24 anos', '25 a 29 anos', '30 a 34 anos', '35 a 39 anos', '40 a 44 anos',\n",
    "                     '45 a 49 anos', '50 a 54 anos', '55 a 59 anos', '60 a 64 anos', '65 a 69 anos', '70 a 74 anos',\n",
    "                     '75 a 79 anos', '80 anos e mais', 'Total']\n",
    "\n",
    "# Função para adicionar colunas ausentes com valores zero em um DataFrame\n",
    "def adicionar_colunas_ausentes(df):\n",
    "    colunas_a_adicionar = [coluna for coluna in colunas_desejadas if coluna not in df.columns]\n",
    "    for coluna in colunas_a_adicionar:\n",
    "        df[coluna] = 0\n",
    "        \n",
    "         # Reordena as colunas do DataFrame de acordo com a lista colunas_desejadas\n",
    "    colunas_ordenadas = ['Causa - CID-BR-10','0 a 6 dias', '7 a 27 dias', '28 a 364 dias', '1 a 4 anos', \n",
    "                         '5 a 9 anos', '10 a 14 anos','15 a 19 anos', '20 a 24 anos', '25 a 29 anos',\n",
    "                         '30 a 34 anos', '35 a 39 anos', '40 a 44 anos','45 a 49 anos', '50 a 54 anos',\n",
    "                         '55 a 59 anos', '60 a 64 anos', '65 a 69 anos', '70 a 74 anos','75 a 79 anos',\n",
    "                         '80 anos e mais', 'Total']       \n",
    "    df = df.reindex(columns=colunas_ordenadas)\n",
    "    \n",
    "    return df\n",
    "\n",
    "\n",
    "# Juntandos os três df com base no Causa - CID-BR-10, somando e depois divido por três---------------------------------------------\n",
    "\n",
    "import pandas as pd\n",
    "import math\n",
    "\n",
    "def processar_dataframes(df_1, df_2, df_3):\n",
    "    # Realizar a fusão dos primeiros dois DataFrames com base na coluna 'Grupo CID-10'\n",
    "    df_merged_12 = pd.merge(df_1, df_2, left_on='Causa - CID-BR-10', right_on='Causa - CID-BR-10', how='outer')\n",
    "    \n",
    "    # Realizar a fusão dos três DataFrames com base na coluna 'Grupo CID-10'\n",
    "    df_merged_123 = pd.merge(df_merged_12, df_3, left_on='Causa - CID-BR-10', right_on='Causa - CID-BR-10', how='outer')\n",
    "\n",
    "    # Obter a lista de todas as colunas\n",
    "    colunas = df_merged_123.columns\n",
    "\n",
    "    # Dicionário para armazenar os resultados somados\n",
    "    resultados_soma = {}\n",
    "\n",
    "    # Iterar sobre as colunas\n",
    "    for col in colunas:\n",
    "        # Separar o prefixo (parte antes do \"_\") da coluna\n",
    "        prefixo = col.split('_')[0]\n",
    "\n",
    "        # Verificar se o prefixo já está no dicionário\n",
    "        if prefixo in resultados_soma:\n",
    "            # Se sim, somar a coluna atual\n",
    "            resultados_soma[prefixo] += df_merged_123[col].fillna(0)\n",
    "        else:\n",
    "            # Se não, adicionar a coluna ao dicionário\n",
    "            resultados_soma[prefixo] = df_merged_123[col].fillna(0)\n",
    "\n",
    "    # Criar um novo DataFrame com os resultados somados\n",
    "    df_resultado_soma = pd.DataFrame(resultados_soma)\n",
    "\n",
    "    # Dividir a soma por três\n",
    "    # Atribuir o resultado da divisão às colunas da segunda até a 22\n",
    "    df_resultado_soma[df_resultado_soma.columns[1:22]] = df_resultado_soma[df_resultado_soma.columns[1:22]] / 3\n",
    "    #df_resultado_soma[df_resultado_soma.columns[1:22]] = df_resultado_soma[df_resultado_soma.columns[1:22]].apply(lambda x: x.apply(math.ceil).astype(int))\n",
    "\n",
    "    \n",
    "    #trata os . antes do nome da doença \n",
    "    df_resultado_soma['Causa - CID-BR-10'] = df_resultado_soma['Causa - CID-BR-10'].str.replace(r'^\\.+', '')\n",
    "    # ordena as doenças por ordem alfabeticas\n",
    "    df_resultado_soma = df_resultado_soma.sort_values(by='Causa - CID-BR-10')\n",
    "    \n",
    "    # Ordenando o DataFrame de forma correta para corrigir os dados \n",
    "    # Aplicando regex para extrair o número da primeira coluna\n",
    "    df_resultado_soma['numero'] = df_resultado_soma['Causa - CID-BR-10'].str.extract(r'(\\d+)')\n",
    "    # Aplicando regex para extrair o intervalo da primeira coluna\n",
    "    df_resultado_soma['intervalo'] = df_resultado_soma['Causa - CID-BR-10'].str.extract(r'(\\d+-\\d+)')\n",
    "    df_resultado_soma['numero_final'] = df_resultado_soma['intervalo'].str.extract(r'-(\\d+)')\n",
    "\n",
    "    df_resultado_soma = df_resultado_soma.sort_values(by=['numero', 'numero_final'], ascending=[True, False])\n",
    "    df_resultado_soma.drop(columns=['numero','intervalo','numero_final'], inplace=True)\n",
    "    \n",
    "    # adicionando a coluna <1\n",
    "    df_resultado_soma['<1'] = df_resultado_soma['0 a 6 dias'] + df_resultado_soma['7 a 27 dias'] + df_resultado_soma['28 a 364 dias']\n",
    "    df_resultado_soma.drop(columns=['0 a 6 dias', '7 a 27 dias', '28 a 364 dias'], inplace=True)\n",
    "    \n",
    "    #reordenando o df\n",
    "         # Reordena as colunas do DataFrame de acordo com a lista colunas_desejadas\n",
    "    colunas_ordenadas = ['Causa - CID-BR-10','<1', '1 a 4 anos', \n",
    "                         '5 a 9 anos', '10 a 14 anos','15 a 19 anos', '20 a 24 anos', '25 a 29 anos',\n",
    "                         '30 a 34 anos', '35 a 39 anos', '40 a 44 anos','45 a 49 anos', '50 a 54 anos',\n",
    "                         '55 a 59 anos', '60 a 64 anos', '65 a 69 anos', '70 a 74 anos','75 a 79 anos',\n",
    "                         '80 anos e mais', 'Total']       \n",
    "    df_resultado_soma = df_resultado_soma.reindex(columns=colunas_ordenadas)\n",
    "    \n",
    "    #Estraindo apenas as linha com todas as letras em maiusculo\n",
    "    #letra = df_resultado_soma['Causa - CID-BR-10'].str.isupper()\n",
    "    #df_final = df_resultado_soma[letra]\n",
    "    \n",
    "    return df_resultado_soma\n"
   ]
  },
  {
   "cell_type": "markdown",
   "id": "8d2ea3ca",
   "metadata": {},
   "source": [
    "-------"
   ]
  },
  {
   "cell_type": "markdown",
   "id": "2a6f7465",
   "metadata": {},
   "source": [
    "# Intermediario Adjacente "
   ]
  },
  {
   "cell_type": "markdown",
   "id": "e7c667b2",
   "metadata": {},
   "source": [
    "## Feminino"
   ]
  },
  {
   "cell_type": "markdown",
   "id": "fd811427",
   "metadata": {},
   "source": [
    "* **Resposta para 2018**"
   ]
  },
  {
   "cell_type": "code",
   "execution_count": 4,
   "id": "9fad6d8e",
   "metadata": {},
   "outputs": [],
   "source": [
    "# lendo arquivos \n",
    "caminho_arquivo_1 = r'.\\\\separados por tipologia\\\\IntermediarioAdjacente\\\\IntermediarioAdjacente_ES_F_2017.csv'\n",
    "caminho_arquivo_2 = r'.\\\\separados por tipologia\\\\IntermediarioAdjacente\\\\IntermediarioAdjacente_ES_F_2018.csv'\n",
    "caminho_arquivo_3 = r'.\\\\separados por tipologia\\\\IntermediarioAdjacente\\\\IntermediarioAdjacente_ES_F_2019.csv'\n",
    "\n",
    "df_1 = ler_processar_arquivo_csv(caminho_arquivo_1)\n",
    "df_2 = ler_processar_arquivo_csv(caminho_arquivo_2)\n",
    "df_3 = ler_processar_arquivo_csv(caminho_arquivo_3)"
   ]
  },
  {
   "cell_type": "code",
   "execution_count": 5,
   "id": "da4b6e47",
   "metadata": {},
   "outputs": [],
   "source": [
    "# Adicionar colunas padrão aos DataFrames\n",
    "df_1 = adicionar_colunas_ausentes(df_1)\n",
    "df_2 = adicionar_colunas_ausentes(df_2)\n",
    "df_3 = adicionar_colunas_ausentes(df_3)"
   ]
  },
  {
   "cell_type": "code",
   "execution_count": 6,
   "id": "38471d1c",
   "metadata": {},
   "outputs": [
    {
     "name": "stderr",
     "output_type": "stream",
     "text": [
      "C:\\Users\\Administrador\\AppData\\Local\\Temp\\ipykernel_12768\\4064576934.py:84: FutureWarning: The default value of regex will change from True to False in a future version.\n",
      "  df_resultado_soma['Causa - CID-BR-10'] = df_resultado_soma['Causa - CID-BR-10'].str.replace(r'^\\.+', '')\n"
     ]
    }
   ],
   "source": [
    "# Juntando os df e divdindo por 3 \n",
    "df_resultado = processar_dataframes(df_1, df_2, df_3)\n",
    "IA_F_2018 = df_resultado"
   ]
  },
  {
   "cell_type": "code",
   "execution_count": 7,
   "id": "a5bac34e",
   "metadata": {
    "scrolled": true
   },
   "outputs": [
    {
     "data": {
      "text/html": [
       "<div>\n",
       "<style scoped>\n",
       "    .dataframe tbody tr th:only-of-type {\n",
       "        vertical-align: middle;\n",
       "    }\n",
       "\n",
       "    .dataframe tbody tr th {\n",
       "        vertical-align: top;\n",
       "    }\n",
       "\n",
       "    .dataframe thead th {\n",
       "        text-align: right;\n",
       "    }\n",
       "</style>\n",
       "<table border=\"1\" class=\"dataframe\">\n",
       "  <thead>\n",
       "    <tr style=\"text-align: right;\">\n",
       "      <th></th>\n",
       "      <th>Causa - CID-BR-10</th>\n",
       "      <th>&lt;1</th>\n",
       "      <th>1 a 4 anos</th>\n",
       "      <th>5 a 9 anos</th>\n",
       "      <th>10 a 14 anos</th>\n",
       "      <th>15 a 19 anos</th>\n",
       "      <th>20 a 24 anos</th>\n",
       "      <th>25 a 29 anos</th>\n",
       "      <th>30 a 34 anos</th>\n",
       "      <th>35 a 39 anos</th>\n",
       "      <th>40 a 44 anos</th>\n",
       "      <th>45 a 49 anos</th>\n",
       "      <th>50 a 54 anos</th>\n",
       "      <th>55 a 59 anos</th>\n",
       "      <th>60 a 64 anos</th>\n",
       "      <th>65 a 69 anos</th>\n",
       "      <th>70 a 74 anos</th>\n",
       "      <th>75 a 79 anos</th>\n",
       "      <th>80 anos e mais</th>\n",
       "      <th>Total</th>\n",
       "    </tr>\n",
       "  </thead>\n",
       "  <tbody>\n",
       "    <tr>\n",
       "      <th>0</th>\n",
       "      <td>001-031 ALGUMAS DOENÇAS INFECCIOSAS E PARASITÁ...</td>\n",
       "      <td>0.0</td>\n",
       "      <td>0.0</td>\n",
       "      <td>0.333333</td>\n",
       "      <td>0.0</td>\n",
       "      <td>0.0</td>\n",
       "      <td>0.0</td>\n",
       "      <td>0.333333</td>\n",
       "      <td>0.0</td>\n",
       "      <td>0.0</td>\n",
       "      <td>0.666667</td>\n",
       "      <td>0.333333</td>\n",
       "      <td>0.333333</td>\n",
       "      <td>0.333333</td>\n",
       "      <td>0.0</td>\n",
       "      <td>0.0</td>\n",
       "      <td>0.333333</td>\n",
       "      <td>0.333333</td>\n",
       "      <td>1.333333</td>\n",
       "      <td>4.333333</td>\n",
       "    </tr>\n",
       "  </tbody>\n",
       "</table>\n",
       "</div>"
      ],
      "text/plain": [
       "                                   Causa - CID-BR-10   <1  1 a 4 anos  \\\n",
       "0  001-031 ALGUMAS DOENÇAS INFECCIOSAS E PARASITÁ...  0.0         0.0   \n",
       "\n",
       "   5 a 9 anos  10 a 14 anos  15 a 19 anos  20 a 24 anos  25 a 29 anos  \\\n",
       "0    0.333333           0.0           0.0           0.0      0.333333   \n",
       "\n",
       "   30 a 34 anos  35 a 39 anos  40 a 44 anos  45 a 49 anos  50 a 54 anos  \\\n",
       "0           0.0           0.0      0.666667      0.333333      0.333333   \n",
       "\n",
       "   55 a 59 anos  60 a 64 anos  65 a 69 anos  70 a 74 anos  75 a 79 anos  \\\n",
       "0      0.333333           0.0           0.0      0.333333      0.333333   \n",
       "\n",
       "   80 anos e mais     Total  \n",
       "0        1.333333  4.333333  "
      ]
     },
     "execution_count": 7,
     "metadata": {},
     "output_type": "execute_result"
    }
   ],
   "source": [
    "IA_F_2018.head(1)"
   ]
  },
  {
   "cell_type": "markdown",
   "id": "1d37744d",
   "metadata": {},
   "source": [
    "* **Resposta para 2021**"
   ]
  },
  {
   "cell_type": "code",
   "execution_count": 8,
   "id": "6c0b7fca",
   "metadata": {},
   "outputs": [],
   "source": [
    "# lendo arquivos \n",
    "caminho_arquivo_1 = r'.\\\\separados por tipologia\\\\IntermediarioAdjacente\\\\IntermediarioAdjacente_ES_F_2020.csv'\n",
    "caminho_arquivo_2 = r'.\\\\separados por tipologia\\\\IntermediarioAdjacente\\\\IntermediarioAdjacente_ES_F_2021.csv'\n",
    "caminho_arquivo_3 = r'.\\\\separados por tipologia\\\\IntermediarioAdjacente\\\\IntermediarioAdjacente_ES_F_2022.csv'\n",
    "\n",
    "df_1 = ler_processar_arquivo_csv(caminho_arquivo_1)\n",
    "df_2 = ler_processar_arquivo_csv(caminho_arquivo_2)\n",
    "df_3 = ler_processar_arquivo_csv(caminho_arquivo_3)"
   ]
  },
  {
   "cell_type": "code",
   "execution_count": 9,
   "id": "45660da8",
   "metadata": {},
   "outputs": [],
   "source": [
    "# Adicionar colunas padrão aos DataFrames\n",
    "df_1 = adicionar_colunas_ausentes(df_1)\n",
    "df_2 = adicionar_colunas_ausentes(df_2)\n",
    "df_3 = adicionar_colunas_ausentes(df_3)"
   ]
  },
  {
   "cell_type": "code",
   "execution_count": 10,
   "id": "93eecfce",
   "metadata": {},
   "outputs": [
    {
     "name": "stderr",
     "output_type": "stream",
     "text": [
      "C:\\Users\\Administrador\\AppData\\Local\\Temp\\ipykernel_12768\\4064576934.py:84: FutureWarning: The default value of regex will change from True to False in a future version.\n",
      "  df_resultado_soma['Causa - CID-BR-10'] = df_resultado_soma['Causa - CID-BR-10'].str.replace(r'^\\.+', '')\n"
     ]
    }
   ],
   "source": [
    "# Juntando os df e divdindo por 3 \n",
    "df_resultado = processar_dataframes(df_1, df_2, df_3)\n",
    "IA_F_2021 = df_resultado"
   ]
  },
  {
   "cell_type": "code",
   "execution_count": 11,
   "id": "20515d0f",
   "metadata": {
    "scrolled": true
   },
   "outputs": [
    {
     "data": {
      "text/html": [
       "<div>\n",
       "<style scoped>\n",
       "    .dataframe tbody tr th:only-of-type {\n",
       "        vertical-align: middle;\n",
       "    }\n",
       "\n",
       "    .dataframe tbody tr th {\n",
       "        vertical-align: top;\n",
       "    }\n",
       "\n",
       "    .dataframe thead th {\n",
       "        text-align: right;\n",
       "    }\n",
       "</style>\n",
       "<table border=\"1\" class=\"dataframe\">\n",
       "  <thead>\n",
       "    <tr style=\"text-align: right;\">\n",
       "      <th></th>\n",
       "      <th>Causa - CID-BR-10</th>\n",
       "      <th>&lt;1</th>\n",
       "      <th>1 a 4 anos</th>\n",
       "      <th>5 a 9 anos</th>\n",
       "      <th>10 a 14 anos</th>\n",
       "      <th>15 a 19 anos</th>\n",
       "      <th>20 a 24 anos</th>\n",
       "      <th>25 a 29 anos</th>\n",
       "      <th>30 a 34 anos</th>\n",
       "      <th>35 a 39 anos</th>\n",
       "      <th>40 a 44 anos</th>\n",
       "      <th>45 a 49 anos</th>\n",
       "      <th>50 a 54 anos</th>\n",
       "      <th>55 a 59 anos</th>\n",
       "      <th>60 a 64 anos</th>\n",
       "      <th>65 a 69 anos</th>\n",
       "      <th>70 a 74 anos</th>\n",
       "      <th>75 a 79 anos</th>\n",
       "      <th>80 anos e mais</th>\n",
       "      <th>Total</th>\n",
       "    </tr>\n",
       "  </thead>\n",
       "  <tbody>\n",
       "    <tr>\n",
       "      <th>0</th>\n",
       "      <td>001-031 ALGUMAS DOENÇAS INFECCIOSAS E PARASITÁ...</td>\n",
       "      <td>0.0</td>\n",
       "      <td>0.0</td>\n",
       "      <td>0.0</td>\n",
       "      <td>0.0</td>\n",
       "      <td>0.333333</td>\n",
       "      <td>0.0</td>\n",
       "      <td>0.333333</td>\n",
       "      <td>0.666667</td>\n",
       "      <td>1.333333</td>\n",
       "      <td>1.333333</td>\n",
       "      <td>2.0</td>\n",
       "      <td>2.666667</td>\n",
       "      <td>2.666667</td>\n",
       "      <td>2.333333</td>\n",
       "      <td>6.333333</td>\n",
       "      <td>3.333333</td>\n",
       "      <td>5.333333</td>\n",
       "      <td>7.0</td>\n",
       "      <td>35.666667</td>\n",
       "    </tr>\n",
       "  </tbody>\n",
       "</table>\n",
       "</div>"
      ],
      "text/plain": [
       "                                   Causa - CID-BR-10   <1  1 a 4 anos  \\\n",
       "0  001-031 ALGUMAS DOENÇAS INFECCIOSAS E PARASITÁ...  0.0         0.0   \n",
       "\n",
       "   5 a 9 anos  10 a 14 anos  15 a 19 anos  20 a 24 anos  25 a 29 anos  \\\n",
       "0         0.0           0.0      0.333333           0.0      0.333333   \n",
       "\n",
       "   30 a 34 anos  35 a 39 anos  40 a 44 anos  45 a 49 anos  50 a 54 anos  \\\n",
       "0      0.666667      1.333333      1.333333           2.0      2.666667   \n",
       "\n",
       "   55 a 59 anos  60 a 64 anos  65 a 69 anos  70 a 74 anos  75 a 79 anos  \\\n",
       "0      2.666667      2.333333      6.333333      3.333333      5.333333   \n",
       "\n",
       "   80 anos e mais      Total  \n",
       "0             7.0  35.666667  "
      ]
     },
     "execution_count": 11,
     "metadata": {},
     "output_type": "execute_result"
    }
   ],
   "source": [
    "IA_F_2021.head(1)"
   ]
  },
  {
   "cell_type": "markdown",
   "id": "7ae14c73",
   "metadata": {},
   "source": [
    "## Masculino"
   ]
  },
  {
   "cell_type": "markdown",
   "id": "047bd379",
   "metadata": {},
   "source": [
    "* **Resposta para 2018**"
   ]
  },
  {
   "cell_type": "code",
   "execution_count": 12,
   "id": "79753994",
   "metadata": {},
   "outputs": [],
   "source": [
    "# lendo arquivos \n",
    "caminho_arquivo_1 = r'.\\\\separados por tipologia\\\\IntermediarioAdjacente\\\\IntermediarioAdjacente_ES_M_2017.csv'\n",
    "caminho_arquivo_2 = r'.\\\\separados por tipologia\\\\IntermediarioAdjacente\\\\IntermediarioAdjacente_ES_M_2018.csv'\n",
    "caminho_arquivo_3 = r'.\\\\separados por tipologia\\\\IntermediarioAdjacente\\\\IntermediarioAdjacente_ES_M_2019.csv'\n",
    "\n",
    "df_1 = ler_processar_arquivo_csv(caminho_arquivo_1)\n",
    "df_2 = ler_processar_arquivo_csv(caminho_arquivo_2)\n",
    "df_3 = ler_processar_arquivo_csv(caminho_arquivo_3)"
   ]
  },
  {
   "cell_type": "code",
   "execution_count": 13,
   "id": "5db04d8a",
   "metadata": {},
   "outputs": [],
   "source": [
    "# Adicionar colunas padrão aos DataFrames\n",
    "df_1 = adicionar_colunas_ausentes(df_1)\n",
    "df_2 = adicionar_colunas_ausentes(df_2)\n",
    "df_3 = adicionar_colunas_ausentes(df_3)"
   ]
  },
  {
   "cell_type": "code",
   "execution_count": 14,
   "id": "906985a8",
   "metadata": {},
   "outputs": [
    {
     "name": "stderr",
     "output_type": "stream",
     "text": [
      "C:\\Users\\Administrador\\AppData\\Local\\Temp\\ipykernel_12768\\4064576934.py:84: FutureWarning: The default value of regex will change from True to False in a future version.\n",
      "  df_resultado_soma['Causa - CID-BR-10'] = df_resultado_soma['Causa - CID-BR-10'].str.replace(r'^\\.+', '')\n"
     ]
    }
   ],
   "source": [
    "# Juntando os df e divdindo por 3 \n",
    "df_resultado = processar_dataframes(df_1, df_2, df_3)\n",
    "IA_M_2018 = df_resultado"
   ]
  },
  {
   "cell_type": "code",
   "execution_count": 15,
   "id": "93c2d572",
   "metadata": {
    "scrolled": false
   },
   "outputs": [
    {
     "data": {
      "text/html": [
       "<div>\n",
       "<style scoped>\n",
       "    .dataframe tbody tr th:only-of-type {\n",
       "        vertical-align: middle;\n",
       "    }\n",
       "\n",
       "    .dataframe tbody tr th {\n",
       "        vertical-align: top;\n",
       "    }\n",
       "\n",
       "    .dataframe thead th {\n",
       "        text-align: right;\n",
       "    }\n",
       "</style>\n",
       "<table border=\"1\" class=\"dataframe\">\n",
       "  <thead>\n",
       "    <tr style=\"text-align: right;\">\n",
       "      <th></th>\n",
       "      <th>Causa - CID-BR-10</th>\n",
       "      <th>&lt;1</th>\n",
       "      <th>1 a 4 anos</th>\n",
       "      <th>5 a 9 anos</th>\n",
       "      <th>10 a 14 anos</th>\n",
       "      <th>15 a 19 anos</th>\n",
       "      <th>20 a 24 anos</th>\n",
       "      <th>25 a 29 anos</th>\n",
       "      <th>30 a 34 anos</th>\n",
       "      <th>35 a 39 anos</th>\n",
       "      <th>40 a 44 anos</th>\n",
       "      <th>45 a 49 anos</th>\n",
       "      <th>50 a 54 anos</th>\n",
       "      <th>55 a 59 anos</th>\n",
       "      <th>60 a 64 anos</th>\n",
       "      <th>65 a 69 anos</th>\n",
       "      <th>70 a 74 anos</th>\n",
       "      <th>75 a 79 anos</th>\n",
       "      <th>80 anos e mais</th>\n",
       "      <th>Total</th>\n",
       "    </tr>\n",
       "  </thead>\n",
       "  <tbody>\n",
       "    <tr>\n",
       "      <th>0</th>\n",
       "      <td>001-031 ALGUMAS DOENÇAS INFECCIOSAS E PARASITÁ...</td>\n",
       "      <td>0.333333</td>\n",
       "      <td>0.0</td>\n",
       "      <td>0.0</td>\n",
       "      <td>0.0</td>\n",
       "      <td>0.0</td>\n",
       "      <td>0.0</td>\n",
       "      <td>0.666667</td>\n",
       "      <td>0.333333</td>\n",
       "      <td>0.333333</td>\n",
       "      <td>0.333333</td>\n",
       "      <td>0.0</td>\n",
       "      <td>1.0</td>\n",
       "      <td>0.666667</td>\n",
       "      <td>0.333333</td>\n",
       "      <td>0.333333</td>\n",
       "      <td>0.333333</td>\n",
       "      <td>0.666667</td>\n",
       "      <td>0.333333</td>\n",
       "      <td>5.666667</td>\n",
       "    </tr>\n",
       "  </tbody>\n",
       "</table>\n",
       "</div>"
      ],
      "text/plain": [
       "                                   Causa - CID-BR-10        <1  1 a 4 anos  \\\n",
       "0  001-031 ALGUMAS DOENÇAS INFECCIOSAS E PARASITÁ...  0.333333         0.0   \n",
       "\n",
       "   5 a 9 anos  10 a 14 anos  15 a 19 anos  20 a 24 anos  25 a 29 anos  \\\n",
       "0         0.0           0.0           0.0           0.0      0.666667   \n",
       "\n",
       "   30 a 34 anos  35 a 39 anos  40 a 44 anos  45 a 49 anos  50 a 54 anos  \\\n",
       "0      0.333333      0.333333      0.333333           0.0           1.0   \n",
       "\n",
       "   55 a 59 anos  60 a 64 anos  65 a 69 anos  70 a 74 anos  75 a 79 anos  \\\n",
       "0      0.666667      0.333333      0.333333      0.333333      0.666667   \n",
       "\n",
       "   80 anos e mais     Total  \n",
       "0        0.333333  5.666667  "
      ]
     },
     "execution_count": 15,
     "metadata": {},
     "output_type": "execute_result"
    }
   ],
   "source": [
    "IA_M_2018.head(1)"
   ]
  },
  {
   "cell_type": "markdown",
   "id": "773a9947",
   "metadata": {},
   "source": [
    "* **Resposta para 2021**"
   ]
  },
  {
   "cell_type": "code",
   "execution_count": 16,
   "id": "d415f124",
   "metadata": {},
   "outputs": [],
   "source": [
    "# lendo arquivos \n",
    "caminho_arquivo_1 = r'.\\\\separados por tipologia\\\\IntermediarioAdjacente\\\\IntermediarioAdjacente_ES_M_2020.csv'\n",
    "caminho_arquivo_2 = r'.\\\\separados por tipologia\\\\IntermediarioAdjacente\\\\IntermediarioAdjacente_ES_M_2021.csv'\n",
    "caminho_arquivo_3 = r'.\\\\separados por tipologia\\\\IntermediarioAdjacente\\\\IntermediarioAdjacente_ES_M_2022.csv'\n",
    "\n",
    "df_1 = ler_processar_arquivo_csv(caminho_arquivo_1)\n",
    "df_2 = ler_processar_arquivo_csv(caminho_arquivo_2)\n",
    "df_3 = ler_processar_arquivo_csv(caminho_arquivo_3)"
   ]
  },
  {
   "cell_type": "code",
   "execution_count": 17,
   "id": "9eaabbc6",
   "metadata": {},
   "outputs": [],
   "source": [
    "# Adicionar colunas padrão aos DataFrames\n",
    "df_1 = adicionar_colunas_ausentes(df_1)\n",
    "df_2 = adicionar_colunas_ausentes(df_2)\n",
    "df_3 = adicionar_colunas_ausentes(df_3)"
   ]
  },
  {
   "cell_type": "code",
   "execution_count": 18,
   "id": "44eb4d97",
   "metadata": {},
   "outputs": [
    {
     "name": "stderr",
     "output_type": "stream",
     "text": [
      "C:\\Users\\Administrador\\AppData\\Local\\Temp\\ipykernel_12768\\4064576934.py:84: FutureWarning: The default value of regex will change from True to False in a future version.\n",
      "  df_resultado_soma['Causa - CID-BR-10'] = df_resultado_soma['Causa - CID-BR-10'].str.replace(r'^\\.+', '')\n"
     ]
    }
   ],
   "source": [
    "# Juntando os df e divdindo por 3 \n",
    "df_resultado = processar_dataframes(df_1, df_2, df_3)\n",
    "IA_M_2021 = df_resultado"
   ]
  },
  {
   "cell_type": "code",
   "execution_count": 19,
   "id": "7e98b8db",
   "metadata": {
    "scrolled": true
   },
   "outputs": [
    {
     "data": {
      "text/html": [
       "<div>\n",
       "<style scoped>\n",
       "    .dataframe tbody tr th:only-of-type {\n",
       "        vertical-align: middle;\n",
       "    }\n",
       "\n",
       "    .dataframe tbody tr th {\n",
       "        vertical-align: top;\n",
       "    }\n",
       "\n",
       "    .dataframe thead th {\n",
       "        text-align: right;\n",
       "    }\n",
       "</style>\n",
       "<table border=\"1\" class=\"dataframe\">\n",
       "  <thead>\n",
       "    <tr style=\"text-align: right;\">\n",
       "      <th></th>\n",
       "      <th>Causa - CID-BR-10</th>\n",
       "      <th>&lt;1</th>\n",
       "      <th>1 a 4 anos</th>\n",
       "      <th>5 a 9 anos</th>\n",
       "      <th>10 a 14 anos</th>\n",
       "      <th>15 a 19 anos</th>\n",
       "      <th>20 a 24 anos</th>\n",
       "      <th>25 a 29 anos</th>\n",
       "      <th>30 a 34 anos</th>\n",
       "      <th>35 a 39 anos</th>\n",
       "      <th>40 a 44 anos</th>\n",
       "      <th>45 a 49 anos</th>\n",
       "      <th>50 a 54 anos</th>\n",
       "      <th>55 a 59 anos</th>\n",
       "      <th>60 a 64 anos</th>\n",
       "      <th>65 a 69 anos</th>\n",
       "      <th>70 a 74 anos</th>\n",
       "      <th>75 a 79 anos</th>\n",
       "      <th>80 anos e mais</th>\n",
       "      <th>Total</th>\n",
       "    </tr>\n",
       "  </thead>\n",
       "  <tbody>\n",
       "    <tr>\n",
       "      <th>0</th>\n",
       "      <td>001-031 ALGUMAS DOENÇAS INFECCIOSAS E PARASITÁ...</td>\n",
       "      <td>0.0</td>\n",
       "      <td>0.333333</td>\n",
       "      <td>0.0</td>\n",
       "      <td>0.0</td>\n",
       "      <td>0.0</td>\n",
       "      <td>0.333333</td>\n",
       "      <td>0.333333</td>\n",
       "      <td>0.333333</td>\n",
       "      <td>1.666667</td>\n",
       "      <td>0.666667</td>\n",
       "      <td>1.0</td>\n",
       "      <td>0.666667</td>\n",
       "      <td>3.333333</td>\n",
       "      <td>5.666667</td>\n",
       "      <td>4.666667</td>\n",
       "      <td>3.333333</td>\n",
       "      <td>4.0</td>\n",
       "      <td>10.666667</td>\n",
       "      <td>37.0</td>\n",
       "    </tr>\n",
       "  </tbody>\n",
       "</table>\n",
       "</div>"
      ],
      "text/plain": [
       "                                   Causa - CID-BR-10   <1  1 a 4 anos  \\\n",
       "0  001-031 ALGUMAS DOENÇAS INFECCIOSAS E PARASITÁ...  0.0    0.333333   \n",
       "\n",
       "   5 a 9 anos  10 a 14 anos  15 a 19 anos  20 a 24 anos  25 a 29 anos  \\\n",
       "0         0.0           0.0           0.0      0.333333      0.333333   \n",
       "\n",
       "   30 a 34 anos  35 a 39 anos  40 a 44 anos  45 a 49 anos  50 a 54 anos  \\\n",
       "0      0.333333      1.666667      0.666667           1.0      0.666667   \n",
       "\n",
       "   55 a 59 anos  60 a 64 anos  65 a 69 anos  70 a 74 anos  75 a 79 anos  \\\n",
       "0      3.333333      5.666667      4.666667      3.333333           4.0   \n",
       "\n",
       "   80 anos e mais  Total  \n",
       "0       10.666667   37.0  "
      ]
     },
     "execution_count": 19,
     "metadata": {},
     "output_type": "execute_result"
    }
   ],
   "source": [
    "IA_M_2021.head(1)"
   ]
  },
  {
   "cell_type": "markdown",
   "id": "2176edb9",
   "metadata": {},
   "source": [
    "-------"
   ]
  },
  {
   "cell_type": "markdown",
   "id": "c7cb7524",
   "metadata": {},
   "source": [
    "# Intermediario Remoto NÃO TEM MUNICIPIOS PARA A TIPOLOGIA"
   ]
  },
  {
   "cell_type": "markdown",
   "id": "400a6387",
   "metadata": {},
   "source": [
    "-------"
   ]
  },
  {
   "cell_type": "markdown",
   "id": "648fbbcb",
   "metadata": {},
   "source": [
    "# Rural Adjacente\n"
   ]
  },
  {
   "cell_type": "markdown",
   "id": "e6975097",
   "metadata": {},
   "source": [
    "## Feminino"
   ]
  },
  {
   "cell_type": "markdown",
   "id": "7cbebca1",
   "metadata": {},
   "source": [
    "* **Resposta para 2018**"
   ]
  },
  {
   "cell_type": "code",
   "execution_count": 20,
   "id": "63bea8c1",
   "metadata": {},
   "outputs": [],
   "source": [
    "# lendo arquivos \n",
    "caminho_arquivo_1 = r'.\\\\separados por tipologia\\\\RuralAdjacente\\\\RuralAdjacente_ES_F_2017.csv'\n",
    "caminho_arquivo_2 = r'.\\\\separados por tipologia\\\\RuralAdjacente\\\\RuralAdjacente_ES_F_2018.csv'\n",
    "caminho_arquivo_3 = r'.\\\\separados por tipologia\\\\RuralAdjacente\\\\RuralAdjacente_ES_F_2019.csv'\n",
    "\n",
    "df_1 = ler_processar_arquivo_csv(caminho_arquivo_1)\n",
    "df_2 = ler_processar_arquivo_csv(caminho_arquivo_2)\n",
    "df_3 = ler_processar_arquivo_csv(caminho_arquivo_3)"
   ]
  },
  {
   "cell_type": "code",
   "execution_count": 21,
   "id": "6e42b4b5",
   "metadata": {},
   "outputs": [],
   "source": [
    "# Adicionar colunas padrão aos DataFrames\n",
    "df_1 = adicionar_colunas_ausentes(df_1)\n",
    "df_2 = adicionar_colunas_ausentes(df_2)\n",
    "df_3 = adicionar_colunas_ausentes(df_3)"
   ]
  },
  {
   "cell_type": "code",
   "execution_count": 22,
   "id": "07c3787e",
   "metadata": {},
   "outputs": [
    {
     "name": "stderr",
     "output_type": "stream",
     "text": [
      "C:\\Users\\Administrador\\AppData\\Local\\Temp\\ipykernel_12768\\4064576934.py:84: FutureWarning: The default value of regex will change from True to False in a future version.\n",
      "  df_resultado_soma['Causa - CID-BR-10'] = df_resultado_soma['Causa - CID-BR-10'].str.replace(r'^\\.+', '')\n"
     ]
    }
   ],
   "source": [
    "# Juntando os df e divdindo por 3 \n",
    "df_resultado = processar_dataframes(df_1, df_2, df_3)\n",
    "RA_F_2018 = df_resultado"
   ]
  },
  {
   "cell_type": "code",
   "execution_count": 23,
   "id": "cd43329a",
   "metadata": {
    "scrolled": true
   },
   "outputs": [
    {
     "data": {
      "text/html": [
       "<div>\n",
       "<style scoped>\n",
       "    .dataframe tbody tr th:only-of-type {\n",
       "        vertical-align: middle;\n",
       "    }\n",
       "\n",
       "    .dataframe tbody tr th {\n",
       "        vertical-align: top;\n",
       "    }\n",
       "\n",
       "    .dataframe thead th {\n",
       "        text-align: right;\n",
       "    }\n",
       "</style>\n",
       "<table border=\"1\" class=\"dataframe\">\n",
       "  <thead>\n",
       "    <tr style=\"text-align: right;\">\n",
       "      <th></th>\n",
       "      <th>Causa - CID-BR-10</th>\n",
       "      <th>&lt;1</th>\n",
       "      <th>1 a 4 anos</th>\n",
       "      <th>5 a 9 anos</th>\n",
       "      <th>10 a 14 anos</th>\n",
       "      <th>15 a 19 anos</th>\n",
       "      <th>20 a 24 anos</th>\n",
       "      <th>25 a 29 anos</th>\n",
       "      <th>30 a 34 anos</th>\n",
       "      <th>35 a 39 anos</th>\n",
       "      <th>40 a 44 anos</th>\n",
       "      <th>45 a 49 anos</th>\n",
       "      <th>50 a 54 anos</th>\n",
       "      <th>55 a 59 anos</th>\n",
       "      <th>60 a 64 anos</th>\n",
       "      <th>65 a 69 anos</th>\n",
       "      <th>70 a 74 anos</th>\n",
       "      <th>75 a 79 anos</th>\n",
       "      <th>80 anos e mais</th>\n",
       "      <th>Total</th>\n",
       "    </tr>\n",
       "  </thead>\n",
       "  <tbody>\n",
       "    <tr>\n",
       "      <th>0</th>\n",
       "      <td>001-031 ALGUMAS DOENÇAS INFECCIOSAS E PARASITÁ...</td>\n",
       "      <td>0.0</td>\n",
       "      <td>0.0</td>\n",
       "      <td>0.0</td>\n",
       "      <td>0.0</td>\n",
       "      <td>0.333333</td>\n",
       "      <td>0.0</td>\n",
       "      <td>0.0</td>\n",
       "      <td>0.0</td>\n",
       "      <td>0.0</td>\n",
       "      <td>0.333333</td>\n",
       "      <td>0.0</td>\n",
       "      <td>0.0</td>\n",
       "      <td>0.333333</td>\n",
       "      <td>0.666667</td>\n",
       "      <td>1.0</td>\n",
       "      <td>0.0</td>\n",
       "      <td>1.0</td>\n",
       "      <td>1.333333</td>\n",
       "      <td>5.0</td>\n",
       "    </tr>\n",
       "  </tbody>\n",
       "</table>\n",
       "</div>"
      ],
      "text/plain": [
       "                                   Causa - CID-BR-10   <1  1 a 4 anos  \\\n",
       "0  001-031 ALGUMAS DOENÇAS INFECCIOSAS E PARASITÁ...  0.0         0.0   \n",
       "\n",
       "   5 a 9 anos  10 a 14 anos  15 a 19 anos  20 a 24 anos  25 a 29 anos  \\\n",
       "0         0.0           0.0      0.333333           0.0           0.0   \n",
       "\n",
       "   30 a 34 anos  35 a 39 anos  40 a 44 anos  45 a 49 anos  50 a 54 anos  \\\n",
       "0           0.0           0.0      0.333333           0.0           0.0   \n",
       "\n",
       "   55 a 59 anos  60 a 64 anos  65 a 69 anos  70 a 74 anos  75 a 79 anos  \\\n",
       "0      0.333333      0.666667           1.0           0.0           1.0   \n",
       "\n",
       "   80 anos e mais  Total  \n",
       "0        1.333333    5.0  "
      ]
     },
     "execution_count": 23,
     "metadata": {},
     "output_type": "execute_result"
    }
   ],
   "source": [
    "RA_F_2018.head(1)"
   ]
  },
  {
   "cell_type": "markdown",
   "id": "7e957e44",
   "metadata": {},
   "source": [
    "* **Resposta para 2021**"
   ]
  },
  {
   "cell_type": "code",
   "execution_count": 24,
   "id": "ab6309d1",
   "metadata": {},
   "outputs": [],
   "source": [
    "# lendo arquivos \n",
    "caminho_arquivo_1 = r'.\\\\separados por tipologia\\\\RuralAdjacente\\\\RuralAdjacente_ES_F_2020.csv'\n",
    "caminho_arquivo_2 = r'.\\\\separados por tipologia\\\\RuralAdjacente\\\\RuralAdjacente_ES_F_2021.csv'\n",
    "caminho_arquivo_3 = r'.\\\\separados por tipologia\\\\RuralAdjacente\\\\RuralAdjacente_ES_F_2022.csv'\n",
    "\n",
    "df_1 = ler_processar_arquivo_csv(caminho_arquivo_1)\n",
    "df_2 = ler_processar_arquivo_csv(caminho_arquivo_2)\n",
    "df_3 = ler_processar_arquivo_csv(caminho_arquivo_3)"
   ]
  },
  {
   "cell_type": "code",
   "execution_count": 25,
   "id": "676588ec",
   "metadata": {},
   "outputs": [],
   "source": [
    "# Adicionar colunas padrão aos DataFrames\n",
    "df_1 = adicionar_colunas_ausentes(df_1)\n",
    "df_2 = adicionar_colunas_ausentes(df_2)\n",
    "df_3 = adicionar_colunas_ausentes(df_3)"
   ]
  },
  {
   "cell_type": "code",
   "execution_count": 26,
   "id": "14a9e99c",
   "metadata": {},
   "outputs": [
    {
     "name": "stderr",
     "output_type": "stream",
     "text": [
      "C:\\Users\\Administrador\\AppData\\Local\\Temp\\ipykernel_12768\\4064576934.py:84: FutureWarning: The default value of regex will change from True to False in a future version.\n",
      "  df_resultado_soma['Causa - CID-BR-10'] = df_resultado_soma['Causa - CID-BR-10'].str.replace(r'^\\.+', '')\n"
     ]
    }
   ],
   "source": [
    "# Juntando os df e divdindo por 3 \n",
    "df_resultado = processar_dataframes(df_1, df_2, df_3)\n",
    "RA_F_2021 = df_resultado"
   ]
  },
  {
   "cell_type": "code",
   "execution_count": 27,
   "id": "10339a69",
   "metadata": {
    "scrolled": true
   },
   "outputs": [
    {
     "data": {
      "text/html": [
       "<div>\n",
       "<style scoped>\n",
       "    .dataframe tbody tr th:only-of-type {\n",
       "        vertical-align: middle;\n",
       "    }\n",
       "\n",
       "    .dataframe tbody tr th {\n",
       "        vertical-align: top;\n",
       "    }\n",
       "\n",
       "    .dataframe thead th {\n",
       "        text-align: right;\n",
       "    }\n",
       "</style>\n",
       "<table border=\"1\" class=\"dataframe\">\n",
       "  <thead>\n",
       "    <tr style=\"text-align: right;\">\n",
       "      <th></th>\n",
       "      <th>Causa - CID-BR-10</th>\n",
       "      <th>&lt;1</th>\n",
       "      <th>1 a 4 anos</th>\n",
       "      <th>5 a 9 anos</th>\n",
       "      <th>10 a 14 anos</th>\n",
       "      <th>15 a 19 anos</th>\n",
       "      <th>20 a 24 anos</th>\n",
       "      <th>25 a 29 anos</th>\n",
       "      <th>30 a 34 anos</th>\n",
       "      <th>35 a 39 anos</th>\n",
       "      <th>40 a 44 anos</th>\n",
       "      <th>45 a 49 anos</th>\n",
       "      <th>50 a 54 anos</th>\n",
       "      <th>55 a 59 anos</th>\n",
       "      <th>60 a 64 anos</th>\n",
       "      <th>65 a 69 anos</th>\n",
       "      <th>70 a 74 anos</th>\n",
       "      <th>75 a 79 anos</th>\n",
       "      <th>80 anos e mais</th>\n",
       "      <th>Total</th>\n",
       "    </tr>\n",
       "  </thead>\n",
       "  <tbody>\n",
       "    <tr>\n",
       "      <th>0</th>\n",
       "      <td>001-031 ALGUMAS DOENÇAS INFECCIOSAS E PARASITÁ...</td>\n",
       "      <td>0.0</td>\n",
       "      <td>0.0</td>\n",
       "      <td>0.0</td>\n",
       "      <td>0.0</td>\n",
       "      <td>0.333333</td>\n",
       "      <td>0.0</td>\n",
       "      <td>0.0</td>\n",
       "      <td>0.0</td>\n",
       "      <td>0.333333</td>\n",
       "      <td>1.0</td>\n",
       "      <td>0.666667</td>\n",
       "      <td>0.333333</td>\n",
       "      <td>2.333333</td>\n",
       "      <td>2.333333</td>\n",
       "      <td>2.666667</td>\n",
       "      <td>4.333333</td>\n",
       "      <td>5.0</td>\n",
       "      <td>11.333333</td>\n",
       "      <td>30.666667</td>\n",
       "    </tr>\n",
       "  </tbody>\n",
       "</table>\n",
       "</div>"
      ],
      "text/plain": [
       "                                   Causa - CID-BR-10   <1  1 a 4 anos  \\\n",
       "0  001-031 ALGUMAS DOENÇAS INFECCIOSAS E PARASITÁ...  0.0         0.0   \n",
       "\n",
       "   5 a 9 anos  10 a 14 anos  15 a 19 anos  20 a 24 anos  25 a 29 anos  \\\n",
       "0         0.0           0.0      0.333333           0.0           0.0   \n",
       "\n",
       "   30 a 34 anos  35 a 39 anos  40 a 44 anos  45 a 49 anos  50 a 54 anos  \\\n",
       "0           0.0      0.333333           1.0      0.666667      0.333333   \n",
       "\n",
       "   55 a 59 anos  60 a 64 anos  65 a 69 anos  70 a 74 anos  75 a 79 anos  \\\n",
       "0      2.333333      2.333333      2.666667      4.333333           5.0   \n",
       "\n",
       "   80 anos e mais      Total  \n",
       "0       11.333333  30.666667  "
      ]
     },
     "execution_count": 27,
     "metadata": {},
     "output_type": "execute_result"
    }
   ],
   "source": [
    "RA_F_2021.head(1)"
   ]
  },
  {
   "cell_type": "markdown",
   "id": "c90383aa",
   "metadata": {},
   "source": [
    "## Masculino"
   ]
  },
  {
   "cell_type": "markdown",
   "id": "04d412ca",
   "metadata": {},
   "source": [
    "* **Resposta para 2018**"
   ]
  },
  {
   "cell_type": "code",
   "execution_count": 28,
   "id": "dc3ad9d5",
   "metadata": {},
   "outputs": [],
   "source": [
    "# lendo arquivos \n",
    "caminho_arquivo_1 = r'.\\\\separados por tipologia\\\\RuralAdjacente\\\\RuralAdjacente_ES_M_2017.csv'\n",
    "caminho_arquivo_2 = r'.\\\\separados por tipologia\\\\RuralAdjacente\\\\RuralAdjacente_ES_M_2018.csv'\n",
    "caminho_arquivo_3 = r'.\\\\separados por tipologia\\\\RuralAdjacente\\\\RuralAdjacente_ES_M_2019.csv'\n",
    "\n",
    "df_1 = ler_processar_arquivo_csv(caminho_arquivo_1)\n",
    "df_2 = ler_processar_arquivo_csv(caminho_arquivo_2)\n",
    "df_3 = ler_processar_arquivo_csv(caminho_arquivo_3)"
   ]
  },
  {
   "cell_type": "code",
   "execution_count": 29,
   "id": "b4775acc",
   "metadata": {},
   "outputs": [],
   "source": [
    "# Adicionar colunas padrão aos DataFrames\n",
    "df_1 = adicionar_colunas_ausentes(df_1)\n",
    "df_2 = adicionar_colunas_ausentes(df_2)\n",
    "df_3 = adicionar_colunas_ausentes(df_3)"
   ]
  },
  {
   "cell_type": "code",
   "execution_count": 30,
   "id": "c4136896",
   "metadata": {},
   "outputs": [
    {
     "name": "stderr",
     "output_type": "stream",
     "text": [
      "C:\\Users\\Administrador\\AppData\\Local\\Temp\\ipykernel_12768\\4064576934.py:84: FutureWarning: The default value of regex will change from True to False in a future version.\n",
      "  df_resultado_soma['Causa - CID-BR-10'] = df_resultado_soma['Causa - CID-BR-10'].str.replace(r'^\\.+', '')\n"
     ]
    }
   ],
   "source": [
    "# Juntando os df e divdindo por 3 \n",
    "df_resultado = processar_dataframes(df_1, df_2, df_3)\n",
    "RA_M_2018 = df_resultado"
   ]
  },
  {
   "cell_type": "code",
   "execution_count": 31,
   "id": "b9257c34",
   "metadata": {
    "scrolled": false
   },
   "outputs": [
    {
     "data": {
      "text/html": [
       "<div>\n",
       "<style scoped>\n",
       "    .dataframe tbody tr th:only-of-type {\n",
       "        vertical-align: middle;\n",
       "    }\n",
       "\n",
       "    .dataframe tbody tr th {\n",
       "        vertical-align: top;\n",
       "    }\n",
       "\n",
       "    .dataframe thead th {\n",
       "        text-align: right;\n",
       "    }\n",
       "</style>\n",
       "<table border=\"1\" class=\"dataframe\">\n",
       "  <thead>\n",
       "    <tr style=\"text-align: right;\">\n",
       "      <th></th>\n",
       "      <th>Causa - CID-BR-10</th>\n",
       "      <th>&lt;1</th>\n",
       "      <th>1 a 4 anos</th>\n",
       "      <th>5 a 9 anos</th>\n",
       "      <th>10 a 14 anos</th>\n",
       "      <th>15 a 19 anos</th>\n",
       "      <th>20 a 24 anos</th>\n",
       "      <th>25 a 29 anos</th>\n",
       "      <th>30 a 34 anos</th>\n",
       "      <th>35 a 39 anos</th>\n",
       "      <th>40 a 44 anos</th>\n",
       "      <th>45 a 49 anos</th>\n",
       "      <th>50 a 54 anos</th>\n",
       "      <th>55 a 59 anos</th>\n",
       "      <th>60 a 64 anos</th>\n",
       "      <th>65 a 69 anos</th>\n",
       "      <th>70 a 74 anos</th>\n",
       "      <th>75 a 79 anos</th>\n",
       "      <th>80 anos e mais</th>\n",
       "      <th>Total</th>\n",
       "    </tr>\n",
       "  </thead>\n",
       "  <tbody>\n",
       "    <tr>\n",
       "      <th>0</th>\n",
       "      <td>001-031 ALGUMAS DOENÇAS INFECCIOSAS E PARASITÁ...</td>\n",
       "      <td>0.0</td>\n",
       "      <td>0.0</td>\n",
       "      <td>0.0</td>\n",
       "      <td>0.0</td>\n",
       "      <td>0.0</td>\n",
       "      <td>0.0</td>\n",
       "      <td>0.333333</td>\n",
       "      <td>0.333333</td>\n",
       "      <td>0.0</td>\n",
       "      <td>0.666667</td>\n",
       "      <td>0.666667</td>\n",
       "      <td>0.666667</td>\n",
       "      <td>1.666667</td>\n",
       "      <td>1.0</td>\n",
       "      <td>0.333333</td>\n",
       "      <td>0.333333</td>\n",
       "      <td>0.666667</td>\n",
       "      <td>1.666667</td>\n",
       "      <td>8.333333</td>\n",
       "    </tr>\n",
       "  </tbody>\n",
       "</table>\n",
       "</div>"
      ],
      "text/plain": [
       "                                   Causa - CID-BR-10   <1  1 a 4 anos  \\\n",
       "0  001-031 ALGUMAS DOENÇAS INFECCIOSAS E PARASITÁ...  0.0         0.0   \n",
       "\n",
       "   5 a 9 anos  10 a 14 anos  15 a 19 anos  20 a 24 anos  25 a 29 anos  \\\n",
       "0         0.0           0.0           0.0           0.0      0.333333   \n",
       "\n",
       "   30 a 34 anos  35 a 39 anos  40 a 44 anos  45 a 49 anos  50 a 54 anos  \\\n",
       "0      0.333333           0.0      0.666667      0.666667      0.666667   \n",
       "\n",
       "   55 a 59 anos  60 a 64 anos  65 a 69 anos  70 a 74 anos  75 a 79 anos  \\\n",
       "0      1.666667           1.0      0.333333      0.333333      0.666667   \n",
       "\n",
       "   80 anos e mais     Total  \n",
       "0        1.666667  8.333333  "
      ]
     },
     "execution_count": 31,
     "metadata": {},
     "output_type": "execute_result"
    }
   ],
   "source": [
    "RA_M_2018.head(1)"
   ]
  },
  {
   "cell_type": "markdown",
   "id": "2e357aa4",
   "metadata": {},
   "source": [
    "* **Resposta para 2021**"
   ]
  },
  {
   "cell_type": "code",
   "execution_count": 32,
   "id": "9c13b3db",
   "metadata": {},
   "outputs": [],
   "source": [
    "# lendo arquivos \n",
    "caminho_arquivo_1 = r'.\\\\separados por tipologia\\\\RuralAdjacente\\\\RuralAdjacente_ES_M_2020.csv'\n",
    "caminho_arquivo_2 = r'.\\\\separados por tipologia\\\\RuralAdjacente\\\\RuralAdjacente_ES_M_2021.csv'\n",
    "caminho_arquivo_3 = r'.\\\\separados por tipologia\\\\RuralAdjacente\\\\RuralAdjacente_ES_M_2022.csv'\n",
    "\n",
    "df_1 = ler_processar_arquivo_csv(caminho_arquivo_1)\n",
    "df_2 = ler_processar_arquivo_csv(caminho_arquivo_2)\n",
    "df_3 = ler_processar_arquivo_csv(caminho_arquivo_3)"
   ]
  },
  {
   "cell_type": "code",
   "execution_count": 33,
   "id": "3587908b",
   "metadata": {},
   "outputs": [],
   "source": [
    "# Adicionar colunas padrão aos DataFrames\n",
    "df_1 = adicionar_colunas_ausentes(df_1)\n",
    "df_2 = adicionar_colunas_ausentes(df_2)\n",
    "df_3 = adicionar_colunas_ausentes(df_3)"
   ]
  },
  {
   "cell_type": "code",
   "execution_count": 34,
   "id": "32a2c2c4",
   "metadata": {},
   "outputs": [
    {
     "name": "stderr",
     "output_type": "stream",
     "text": [
      "C:\\Users\\Administrador\\AppData\\Local\\Temp\\ipykernel_12768\\4064576934.py:84: FutureWarning: The default value of regex will change from True to False in a future version.\n",
      "  df_resultado_soma['Causa - CID-BR-10'] = df_resultado_soma['Causa - CID-BR-10'].str.replace(r'^\\.+', '')\n"
     ]
    }
   ],
   "source": [
    "# Juntando os df e divdindo por 3 \n",
    "df_resultado = processar_dataframes(df_1, df_2, df_3)\n",
    "RA_M_2021 = df_resultado"
   ]
  },
  {
   "cell_type": "code",
   "execution_count": 35,
   "id": "7737d7a3",
   "metadata": {
    "scrolled": false
   },
   "outputs": [
    {
     "data": {
      "text/html": [
       "<div>\n",
       "<style scoped>\n",
       "    .dataframe tbody tr th:only-of-type {\n",
       "        vertical-align: middle;\n",
       "    }\n",
       "\n",
       "    .dataframe tbody tr th {\n",
       "        vertical-align: top;\n",
       "    }\n",
       "\n",
       "    .dataframe thead th {\n",
       "        text-align: right;\n",
       "    }\n",
       "</style>\n",
       "<table border=\"1\" class=\"dataframe\">\n",
       "  <thead>\n",
       "    <tr style=\"text-align: right;\">\n",
       "      <th></th>\n",
       "      <th>Causa - CID-BR-10</th>\n",
       "      <th>&lt;1</th>\n",
       "      <th>1 a 4 anos</th>\n",
       "      <th>5 a 9 anos</th>\n",
       "      <th>10 a 14 anos</th>\n",
       "      <th>15 a 19 anos</th>\n",
       "      <th>20 a 24 anos</th>\n",
       "      <th>25 a 29 anos</th>\n",
       "      <th>30 a 34 anos</th>\n",
       "      <th>35 a 39 anos</th>\n",
       "      <th>40 a 44 anos</th>\n",
       "      <th>45 a 49 anos</th>\n",
       "      <th>50 a 54 anos</th>\n",
       "      <th>55 a 59 anos</th>\n",
       "      <th>60 a 64 anos</th>\n",
       "      <th>65 a 69 anos</th>\n",
       "      <th>70 a 74 anos</th>\n",
       "      <th>75 a 79 anos</th>\n",
       "      <th>80 anos e mais</th>\n",
       "      <th>Total</th>\n",
       "    </tr>\n",
       "  </thead>\n",
       "  <tbody>\n",
       "    <tr>\n",
       "      <th>0</th>\n",
       "      <td>001-031 ALGUMAS DOENÇAS INFECCIOSAS E PARASITÁ...</td>\n",
       "      <td>0.0</td>\n",
       "      <td>0.0</td>\n",
       "      <td>0.0</td>\n",
       "      <td>0.0</td>\n",
       "      <td>0.0</td>\n",
       "      <td>0.333333</td>\n",
       "      <td>0.0</td>\n",
       "      <td>0.0</td>\n",
       "      <td>0.666667</td>\n",
       "      <td>1.0</td>\n",
       "      <td>1.0</td>\n",
       "      <td>2.666667</td>\n",
       "      <td>1.0</td>\n",
       "      <td>2.666667</td>\n",
       "      <td>5.333333</td>\n",
       "      <td>6.0</td>\n",
       "      <td>6.0</td>\n",
       "      <td>11.333333</td>\n",
       "      <td>38.0</td>\n",
       "    </tr>\n",
       "  </tbody>\n",
       "</table>\n",
       "</div>"
      ],
      "text/plain": [
       "                                   Causa - CID-BR-10   <1  1 a 4 anos  \\\n",
       "0  001-031 ALGUMAS DOENÇAS INFECCIOSAS E PARASITÁ...  0.0         0.0   \n",
       "\n",
       "   5 a 9 anos  10 a 14 anos  15 a 19 anos  20 a 24 anos  25 a 29 anos  \\\n",
       "0         0.0           0.0           0.0      0.333333           0.0   \n",
       "\n",
       "   30 a 34 anos  35 a 39 anos  40 a 44 anos  45 a 49 anos  50 a 54 anos  \\\n",
       "0           0.0      0.666667           1.0           1.0      2.666667   \n",
       "\n",
       "   55 a 59 anos  60 a 64 anos  65 a 69 anos  70 a 74 anos  75 a 79 anos  \\\n",
       "0           1.0      2.666667      5.333333           6.0           6.0   \n",
       "\n",
       "   80 anos e mais  Total  \n",
       "0       11.333333   38.0  "
      ]
     },
     "execution_count": 35,
     "metadata": {},
     "output_type": "execute_result"
    }
   ],
   "source": [
    "RA_M_2021.head(1)"
   ]
  },
  {
   "cell_type": "markdown",
   "id": "b00eb5f5",
   "metadata": {},
   "source": [
    "-------"
   ]
  },
  {
   "cell_type": "markdown",
   "id": "0fb7c061",
   "metadata": {},
   "source": [
    "# Rural Remoto NÃO TEM MUNICIPIOS PARA A TIPOLOGIA\n"
   ]
  },
  {
   "cell_type": "markdown",
   "id": "c4214afd",
   "metadata": {},
   "source": [
    "-------"
   ]
  },
  {
   "cell_type": "markdown",
   "id": "ed3d26be",
   "metadata": {},
   "source": [
    "# Urbano NÃO TEM MUNICIPIOS PARA A TIPOLOGIA\n"
   ]
  },
  {
   "cell_type": "markdown",
   "id": "3bf45208",
   "metadata": {},
   "source": [
    "-------"
   ]
  },
  {
   "cell_type": "markdown",
   "id": "fe53faf4",
   "metadata": {},
   "source": [
    "# Parte final"
   ]
  },
  {
   "cell_type": "markdown",
   "id": "a506db14",
   "metadata": {},
   "source": [
    "Armazenando cada df em uma aba do arquivo "
   ]
  },
  {
   "cell_type": "code",
   "execution_count": 36,
   "id": "c0852b4e",
   "metadata": {},
   "outputs": [],
   "source": [
    "# Criar um escritor Excel\n",
    "with pd.ExcelWriter(r'.\\\\Triênio\\\\ES_trienio.xlsx', engine='xlsxwriter') as writer:\n",
    "    # intermediario adjecente \n",
    "    IA_F_2018.to_excel(writer, sheet_name='IA_F_2018', index=False)\n",
    "    IA_F_2021.to_excel(writer, sheet_name='IA_F_2021', index=False)\n",
    "    IA_M_2018.to_excel(writer, sheet_name='IA_M_2018', index=False)\n",
    "    IA_M_2021.to_excel(writer, sheet_name='IA_M_2021', index=False)\n",
    "    # intermediario Remoto\n",
    "    #IR_F_2018.to_excel(writer, sheet_name='IR_F_2018', index=False)\n",
    "    #IR_F_2021.to_excel(writer, sheet_name='IR_F_2021', index=False)\n",
    "    #IR_M_2018.to_excel(writer, sheet_name='IR_M_2018', index=False)\n",
    "    #IR_M_2021.to_excel(writer, sheet_name='IR_M_2021', index=False)\n",
    "    # Rural Adjacente \n",
    "    RA_F_2018.to_excel(writer, sheet_name='RA_F_2018', index=False)\n",
    "    RA_F_2021.to_excel(writer, sheet_name='RA_F_2021', index=False)\n",
    "    RA_M_2018.to_excel(writer, sheet_name='RA_M_2018', index=False)\n",
    "    RA_M_2021.to_excel(writer, sheet_name='RA_M_2021', index=False)\n",
    "    # Rural Remoto \n",
    "    #RR_F_2018.to_excel(writer, sheet_name='RR_F_2018', index=False)\n",
    "    #RR_F_2021.to_excel(writer, sheet_name='RR_F_2021', index=False)\n",
    "    #RR_M_2018.to_excel(writer, sheet_name='RR_M_2018', index=False)\n",
    "    #RR_M_2021.to_excel(writer, sheet_name='RR_M_2021', index=False)\n",
    "    # Urbano\n",
    "    #U_F_2018.to_excel(writer, sheet_name='U_F_2018', index=False)\n",
    "    #U_F_2021.to_excel(writer, sheet_name='U_F_2021', index=False)\n",
    "    #U_M_2018.to_excel(writer, sheet_name='U_M_2018', index=False)\n",
    "    #U_M_2021.to_excel(writer, sheet_name='U_M_2021', index=False)"
   ]
  }
 ],
 "metadata": {
  "kernelspec": {
   "display_name": "Python 3 (ipykernel)",
   "language": "python",
   "name": "python3"
  },
  "language_info": {
   "codemirror_mode": {
    "name": "ipython",
    "version": 3
   },
   "file_extension": ".py",
   "mimetype": "text/x-python",
   "name": "python",
   "nbconvert_exporter": "python",
   "pygments_lexer": "ipython3",
   "version": "3.10.9"
  }
 },
 "nbformat": 4,
 "nbformat_minor": 5
}
