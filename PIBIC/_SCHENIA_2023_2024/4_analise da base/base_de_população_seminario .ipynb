{
 "cells": [
  {
   "cell_type": "markdown",
   "id": "8bb7b72b",
   "metadata": {},
   "source": [
    "# Base de estimativa de População 2018 e 2021 "
   ]
  },
  {
   "cell_type": "markdown",
   "id": "6c52c389",
   "metadata": {},
   "source": [
    "Esse arquivo tem por finalidade organizar a base de estimativas da população do semiarido brasileiro por ano, sexo, uf e tipologia."
   ]
  },
  {
   "cell_type": "code",
   "execution_count": null,
   "id": "479e2281",
   "metadata": {},
   "outputs": [],
   "source": []
  },
  {
   "cell_type": "code",
   "execution_count": null,
   "id": "315105cc",
   "metadata": {},
   "outputs": [],
   "source": []
  },
  {
   "cell_type": "code",
   "execution_count": null,
   "id": "f65e7eca",
   "metadata": {},
   "outputs": [],
   "source": []
  },
  {
   "cell_type": "code",
   "execution_count": null,
   "id": "108b6e12",
   "metadata": {},
   "outputs": [],
   "source": []
  },
  {
   "cell_type": "code",
   "execution_count": null,
   "id": "3a4cad43",
   "metadata": {},
   "outputs": [],
   "source": []
  },
  {
   "cell_type": "code",
   "execution_count": null,
   "id": "6b5a75c2",
   "metadata": {},
   "outputs": [],
   "source": []
  }
 ],
 "metadata": {
  "kernelspec": {
   "display_name": "Python 3 (ipykernel)",
   "language": "python",
   "name": "python3"
  },
  "language_info": {
   "codemirror_mode": {
    "name": "ipython",
    "version": 3
   },
   "file_extension": ".py",
   "mimetype": "text/x-python",
   "name": "python",
   "nbconvert_exporter": "python",
   "pygments_lexer": "ipython3",
   "version": "3.10.9"
  }
 },
 "nbformat": 4,
 "nbformat_minor": 5
}
