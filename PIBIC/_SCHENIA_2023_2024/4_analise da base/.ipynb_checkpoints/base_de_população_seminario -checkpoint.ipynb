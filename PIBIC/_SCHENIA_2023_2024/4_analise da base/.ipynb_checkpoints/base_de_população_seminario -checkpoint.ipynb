{
 "cells": [
  {
   "cell_type": "markdown",
   "id": "e945c5e7",
   "metadata": {},
   "source": [
    "# Base de estimativa de População 2018 e 2021 "
   ]
  },
  {
   "cell_type": "markdown",
   "id": "d272651e",
   "metadata": {},
   "source": [
    "Esse arquivo tem por finalidade organizar a base de estimativas da população do semiarido brasileiro por ano, sexo, uf e tipologia."
   ]
  },
  {
   "cell_type": "code",
   "execution_count": null,
   "id": "58431edd",
   "metadata": {},
   "outputs": [],
   "source": []
  },
  {
   "cell_type": "code",
   "execution_count": null,
   "id": "38eab262",
   "metadata": {},
   "outputs": [],
   "source": []
  },
  {
   "cell_type": "code",
   "execution_count": null,
   "id": "bc5ee5a5",
   "metadata": {},
   "outputs": [],
   "source": []
  },
  {
   "cell_type": "code",
   "execution_count": null,
   "id": "cc61cf2b",
   "metadata": {},
   "outputs": [],
   "source": []
  },
  {
   "cell_type": "code",
   "execution_count": null,
   "id": "ca74306f",
   "metadata": {},
   "outputs": [],
   "source": []
  },
  {
   "cell_type": "code",
   "execution_count": null,
   "id": "d0bd5319",
   "metadata": {},
   "outputs": [],
   "source": []
  }
 ],
 "metadata": {
  "kernelspec": {
   "display_name": "Python 3 (ipykernel)",
   "language": "python",
   "name": "python3"
  },
  "language_info": {
   "codemirror_mode": {
    "name": "ipython",
    "version": 3
   },
   "file_extension": ".py",
   "mimetype": "text/x-python",
   "name": "python",
   "nbconvert_exporter": "python",
   "pygments_lexer": "ipython3",
   "version": "3.10.9"
  }
 },
 "nbformat": 4,
 "nbformat_minor": 5
}
