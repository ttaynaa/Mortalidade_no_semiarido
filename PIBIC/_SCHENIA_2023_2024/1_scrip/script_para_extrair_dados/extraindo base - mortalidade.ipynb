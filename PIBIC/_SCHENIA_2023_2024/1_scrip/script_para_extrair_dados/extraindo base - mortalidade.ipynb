{
 "cells": [
  {
   "cell_type": "markdown",
   "id": "e4dc8de7",
   "metadata": {},
   "source": [
    "**Bibliotecas**"
   ]
  },
  {
   "cell_type": "code",
   "execution_count": 1,
   "id": "346b5b1a",
   "metadata": {},
   "outputs": [],
   "source": [
    "#pip install xlrd"
   ]
  },
  {
   "cell_type": "markdown",
   "id": "624ca8b3",
   "metadata": {},
   "source": [
    "# Selecionandos municipio e estado do semiario "
   ]
  },
  {
   "cell_type": "markdown",
   "id": "1ebab13f",
   "metadata": {},
   "source": [
    "* **Base com Códigos do municipio, tipologia e estado**\n",
    "\n",
    "Fonte: https://www.ibge.gov.br/explica/codigos-dos-municipios.php essa fonte não tem a tipologia, mas na pasta tem um arquivo com a tipologia dos municipios"
   ]
  },
  {
   "cell_type": "code",
   "execution_count": 2,
   "id": "6ddc054a",
   "metadata": {},
   "outputs": [
    {
     "data": {
      "text/html": [
       "<div>\n",
       "<style scoped>\n",
       "    .dataframe tbody tr th:only-of-type {\n",
       "        vertical-align: middle;\n",
       "    }\n",
       "\n",
       "    .dataframe tbody tr th {\n",
       "        vertical-align: top;\n",
       "    }\n",
       "\n",
       "    .dataframe thead th {\n",
       "        text-align: right;\n",
       "    }\n",
       "</style>\n",
       "<table border=\"1\" class=\"dataframe\">\n",
       "  <thead>\n",
       "    <tr style=\"text-align: right;\">\n",
       "      <th></th>\n",
       "      <th>NM_UF</th>\n",
       "      <th>SIG_UF</th>\n",
       "      <th>CD_GCMUN</th>\n",
       "      <th>NM_MUN</th>\n",
       "      <th>TIPO</th>\n",
       "    </tr>\n",
       "  </thead>\n",
       "  <tbody>\n",
       "    <tr>\n",
       "      <th>0</th>\n",
       "      <td>Rondônia</td>\n",
       "      <td>RO</td>\n",
       "      <td>1100015</td>\n",
       "      <td>Alta Floresta D´Oeste</td>\n",
       "      <td>IntermediarioAdjacente</td>\n",
       "    </tr>\n",
       "    <tr>\n",
       "      <th>1</th>\n",
       "      <td>Rondônia</td>\n",
       "      <td>RO</td>\n",
       "      <td>1100023</td>\n",
       "      <td>Ariquemes</td>\n",
       "      <td>Urbano</td>\n",
       "    </tr>\n",
       "    <tr>\n",
       "      <th>2</th>\n",
       "      <td>Rondônia</td>\n",
       "      <td>RO</td>\n",
       "      <td>1100031</td>\n",
       "      <td>Cabixi</td>\n",
       "      <td>RuralAdjacente</td>\n",
       "    </tr>\n",
       "    <tr>\n",
       "      <th>3</th>\n",
       "      <td>Rondônia</td>\n",
       "      <td>RO</td>\n",
       "      <td>1100049</td>\n",
       "      <td>Cacoal</td>\n",
       "      <td>Urbano</td>\n",
       "    </tr>\n",
       "    <tr>\n",
       "      <th>4</th>\n",
       "      <td>Rondônia</td>\n",
       "      <td>RO</td>\n",
       "      <td>1100056</td>\n",
       "      <td>Cerejeiras</td>\n",
       "      <td>Urbano</td>\n",
       "    </tr>\n",
       "    <tr>\n",
       "      <th>...</th>\n",
       "      <td>...</td>\n",
       "      <td>...</td>\n",
       "      <td>...</td>\n",
       "      <td>...</td>\n",
       "      <td>...</td>\n",
       "    </tr>\n",
       "    <tr>\n",
       "      <th>5560</th>\n",
       "      <td>Goiás</td>\n",
       "      <td>GO</td>\n",
       "      <td>5222005</td>\n",
       "      <td>Vianópolis</td>\n",
       "      <td>RuralAdjacente</td>\n",
       "    </tr>\n",
       "    <tr>\n",
       "      <th>5561</th>\n",
       "      <td>Goiás</td>\n",
       "      <td>GO</td>\n",
       "      <td>5222054</td>\n",
       "      <td>Vicentinópolis</td>\n",
       "      <td>IntermediarioAdjacente</td>\n",
       "    </tr>\n",
       "    <tr>\n",
       "      <th>5562</th>\n",
       "      <td>Goiás</td>\n",
       "      <td>GO</td>\n",
       "      <td>5222203</td>\n",
       "      <td>Vila Boa</td>\n",
       "      <td>RuralAdjacente</td>\n",
       "    </tr>\n",
       "    <tr>\n",
       "      <th>5563</th>\n",
       "      <td>Goiás</td>\n",
       "      <td>GO</td>\n",
       "      <td>5222302</td>\n",
       "      <td>Vila Propício</td>\n",
       "      <td>RuralAdjacente</td>\n",
       "    </tr>\n",
       "    <tr>\n",
       "      <th>5564</th>\n",
       "      <td>Distrito Federal</td>\n",
       "      <td>DF</td>\n",
       "      <td>5300108</td>\n",
       "      <td>Brasília</td>\n",
       "      <td>Urbano</td>\n",
       "    </tr>\n",
       "  </tbody>\n",
       "</table>\n",
       "<p>5565 rows × 5 columns</p>\n",
       "</div>"
      ],
      "text/plain": [
       "                 NM_UF SIG_UF  CD_GCMUN                 NM_MUN  \\\n",
       "0             Rondônia     RO   1100015  Alta Floresta D´Oeste   \n",
       "1             Rondônia     RO   1100023              Ariquemes   \n",
       "2             Rondônia     RO   1100031                 Cabixi   \n",
       "3             Rondônia     RO   1100049                 Cacoal   \n",
       "4             Rondônia     RO   1100056             Cerejeiras   \n",
       "...                ...    ...       ...                    ...   \n",
       "5560             Goiás     GO   5222005             Vianópolis   \n",
       "5561             Goiás     GO   5222054         Vicentinópolis   \n",
       "5562             Goiás     GO   5222203               Vila Boa   \n",
       "5563             Goiás     GO   5222302          Vila Propício   \n",
       "5564  Distrito Federal     DF   5300108               Brasília   \n",
       "\n",
       "                        TIPO  \n",
       "0     IntermediarioAdjacente  \n",
       "1                     Urbano  \n",
       "2             RuralAdjacente  \n",
       "3                     Urbano  \n",
       "4                     Urbano  \n",
       "...                      ...  \n",
       "5560          RuralAdjacente  \n",
       "5561  IntermediarioAdjacente  \n",
       "5562          RuralAdjacente  \n",
       "5563          RuralAdjacente  \n",
       "5564                  Urbano  \n",
       "\n",
       "[5565 rows x 5 columns]"
      ]
     },
     "execution_count": 2,
     "metadata": {},
     "output_type": "execute_result"
    }
   ],
   "source": [
    "import pandas as pd\n",
    "TIPOCOMPLETO = pd.read_excel('Tipologia_municipal_rural_urbano.xlsx', sheet_name='Tipologia_munic_rural_urbano')  \n",
    "TIPOCOMPLETO"
   ]
  },
  {
   "cell_type": "markdown",
   "id": "6594700a",
   "metadata": {},
   "source": [
    "* **Municipios do semiario**\n",
    "\n",
    "Fonte: https://www.ibge.gov.br/geociencias/cartas-e-mapas/mapas-regionais/15974-semiarido-brasileiro.html#:~:text=Sobre%20a%20publica%C3%A7%C3%A3o%20%2D%202022,delimita%C3%A7%C3%A3o%20anterior%20e%20foram%20confirmados."
   ]
  },
  {
   "cell_type": "code",
   "execution_count": 3,
   "id": "f8937af9",
   "metadata": {},
   "outputs": [
    {
     "data": {
      "text/html": [
       "<div>\n",
       "<style scoped>\n",
       "    .dataframe tbody tr th:only-of-type {\n",
       "        vertical-align: middle;\n",
       "    }\n",
       "\n",
       "    .dataframe tbody tr th {\n",
       "        vertical-align: top;\n",
       "    }\n",
       "\n",
       "    .dataframe thead th {\n",
       "        text-align: right;\n",
       "    }\n",
       "</style>\n",
       "<table border=\"1\" class=\"dataframe\">\n",
       "  <thead>\n",
       "    <tr style=\"text-align: right;\">\n",
       "      <th></th>\n",
       "      <th>CD_MUN</th>\n",
       "      <th>municipio</th>\n",
       "    </tr>\n",
       "  </thead>\n",
       "  <tbody>\n",
       "    <tr>\n",
       "      <th>0</th>\n",
       "      <td>2100154</td>\n",
       "      <td>ÁGUA DOCE DO MARANHÃO</td>\n",
       "    </tr>\n",
       "    <tr>\n",
       "      <th>1</th>\n",
       "      <td>2100907</td>\n",
       "      <td>Araioses</td>\n",
       "    </tr>\n",
       "    <tr>\n",
       "      <th>2</th>\n",
       "      <td>2101509</td>\n",
       "      <td>BARÃO DE GRAJAÚ</td>\n",
       "    </tr>\n",
       "    <tr>\n",
       "      <th>3</th>\n",
       "      <td>2102101</td>\n",
       "      <td>BREJO</td>\n",
       "    </tr>\n",
       "    <tr>\n",
       "      <th>4</th>\n",
       "      <td>2102200</td>\n",
       "      <td>BURITI</td>\n",
       "    </tr>\n",
       "    <tr>\n",
       "      <th>...</th>\n",
       "      <td>...</td>\n",
       "      <td>...</td>\n",
       "    </tr>\n",
       "    <tr>\n",
       "      <th>1472</th>\n",
       "      <td>3202108</td>\n",
       "      <td>ECOPORANGA</td>\n",
       "    </tr>\n",
       "    <tr>\n",
       "      <th>1473</th>\n",
       "      <td>3202702</td>\n",
       "      <td>ITAGUAÇU</td>\n",
       "    </tr>\n",
       "    <tr>\n",
       "      <th>1474</th>\n",
       "      <td>3202900</td>\n",
       "      <td>ITARANA</td>\n",
       "    </tr>\n",
       "    <tr>\n",
       "      <th>1475</th>\n",
       "      <td>3203304</td>\n",
       "      <td>MANTENÓPOLIS</td>\n",
       "    </tr>\n",
       "    <tr>\n",
       "      <th>1476</th>\n",
       "      <td>3203502</td>\n",
       "      <td>MONTANHA</td>\n",
       "    </tr>\n",
       "  </tbody>\n",
       "</table>\n",
       "<p>1477 rows × 2 columns</p>\n",
       "</div>"
      ],
      "text/plain": [
       "       CD_MUN              municipio\n",
       "0     2100154  ÁGUA DOCE DO MARANHÃO\n",
       "1     2100907               Araioses\n",
       "2     2101509        BARÃO DE GRAJAÚ\n",
       "3     2102101                  BREJO\n",
       "4     2102200                 BURITI\n",
       "...       ...                    ...\n",
       "1472  3202108             ECOPORANGA\n",
       "1473  3202702               ITAGUAÇU\n",
       "1474  3202900                ITARANA\n",
       "1475  3203304           MANTENÓPOLIS\n",
       "1476  3203502               MONTANHA\n",
       "\n",
       "[1477 rows x 2 columns]"
      ]
     },
     "execution_count": 3,
     "metadata": {},
     "output_type": "execute_result"
    }
   ],
   "source": [
    "# Carregue seu arquivo com os códigos e nomes dos municípios\n",
    "# Substitua 'caminho_seu_arquivo.csv' pelo caminho correto do seu arquivo com os códigos e nomes dos municípios\n",
    "municipios_semiario = pd.read_excel('lista_municipios_Semiarido_2022.xls')\n",
    "municipios_semiario"
   ]
  },
  {
   "cell_type": "markdown",
   "id": "44bdd0f1",
   "metadata": {},
   "source": [
    "### Adicionando a tipologia aos municipios do Semiario"
   ]
  },
  {
   "cell_type": "code",
   "execution_count": 4,
   "id": "679188f1",
   "metadata": {},
   "outputs": [
    {
     "name": "stdout",
     "output_type": "stream",
     "text": [
      "<class 'pandas.core.frame.DataFrame'>\n",
      "Int64Index: 1477 entries, 0 to 1476\n",
      "Data columns (total 6 columns):\n",
      " #   Column     Non-Null Count  Dtype \n",
      "---  ------     --------------  ----- \n",
      " 0   CD_MUN     1477 non-null   int64 \n",
      " 1   municipio  1477 non-null   object\n",
      " 2   CD_GCMUN   1477 non-null   int32 \n",
      " 3   NM_UF      1477 non-null   object\n",
      " 4   SIG_UF     1477 non-null   object\n",
      " 5   TIPO       1477 non-null   object\n",
      "dtypes: int32(1), int64(1), object(4)\n",
      "memory usage: 75.0+ KB\n"
     ]
    },
    {
     "data": {
      "text/html": [
       "<div>\n",
       "<style scoped>\n",
       "    .dataframe tbody tr th:only-of-type {\n",
       "        vertical-align: middle;\n",
       "    }\n",
       "\n",
       "    .dataframe tbody tr th {\n",
       "        vertical-align: top;\n",
       "    }\n",
       "\n",
       "    .dataframe thead th {\n",
       "        text-align: right;\n",
       "    }\n",
       "</style>\n",
       "<table border=\"1\" class=\"dataframe\">\n",
       "  <thead>\n",
       "    <tr style=\"text-align: right;\">\n",
       "      <th></th>\n",
       "      <th>codigo</th>\n",
       "      <th>Municipio</th>\n",
       "      <th>Estado</th>\n",
       "      <th>UF</th>\n",
       "      <th>Tipo</th>\n",
       "    </tr>\n",
       "  </thead>\n",
       "  <tbody>\n",
       "    <tr>\n",
       "      <th>0</th>\n",
       "      <td>2100154</td>\n",
       "      <td>ÁGUA DOCE DO MARANHÃO</td>\n",
       "      <td>Maranhão</td>\n",
       "      <td>MA</td>\n",
       "      <td>RuralAdjacente</td>\n",
       "    </tr>\n",
       "    <tr>\n",
       "      <th>1</th>\n",
       "      <td>2100907</td>\n",
       "      <td>Araioses</td>\n",
       "      <td>Maranhão</td>\n",
       "      <td>MA</td>\n",
       "      <td>RuralAdjacente</td>\n",
       "    </tr>\n",
       "    <tr>\n",
       "      <th>2</th>\n",
       "      <td>2101509</td>\n",
       "      <td>BARÃO DE GRAJAÚ</td>\n",
       "      <td>Maranhão</td>\n",
       "      <td>MA</td>\n",
       "      <td>Urbano</td>\n",
       "    </tr>\n",
       "    <tr>\n",
       "      <th>3</th>\n",
       "      <td>2102101</td>\n",
       "      <td>BREJO</td>\n",
       "      <td>Maranhão</td>\n",
       "      <td>MA</td>\n",
       "      <td>RuralAdjacente</td>\n",
       "    </tr>\n",
       "    <tr>\n",
       "      <th>4</th>\n",
       "      <td>2102200</td>\n",
       "      <td>BURITI</td>\n",
       "      <td>Maranhão</td>\n",
       "      <td>MA</td>\n",
       "      <td>RuralAdjacente</td>\n",
       "    </tr>\n",
       "  </tbody>\n",
       "</table>\n",
       "</div>"
      ],
      "text/plain": [
       "    codigo              Municipio    Estado  UF            Tipo\n",
       "0  2100154  ÁGUA DOCE DO MARANHÃO  Maranhão  MA  RuralAdjacente\n",
       "1  2100907               Araioses  Maranhão  MA  RuralAdjacente\n",
       "2  2101509        BARÃO DE GRAJAÚ  Maranhão  MA          Urbano\n",
       "3  2102101                  BREJO  Maranhão  MA  RuralAdjacente\n",
       "4  2102200                 BURITI  Maranhão  MA  RuralAdjacente"
      ]
     },
     "execution_count": 4,
     "metadata": {},
     "output_type": "execute_result"
    }
   ],
   "source": [
    "# transforma o código no formato correto para fazer o merge \n",
    "TIPOCOMPLETO['CD_GCMUN'] = TIPOCOMPLETO['CD_GCMUN'].astype(int)\n",
    "\n",
    "# Junte os DataFrames utilizando o código do município como chave\n",
    "com_a_tipologia = municipios_semiario.merge(TIPOCOMPLETO[['CD_GCMUN','NM_UF','SIG_UF','TIPO']], \n",
    "                                           left_on='CD_MUN', right_on='CD_GCMUN', how='left')\n",
    "\n",
    "com_a_tipologia.info() # verificar se algum municipio ficou sem o nome da UF \n",
    "\n",
    "municipios_semiario_BR = com_a_tipologia.drop('CD_GCMUN', axis=1) # Excluindo coluna duplicada\n",
    "municipios_semiario_BR.columns = ['codigo', 'Municipio', 'Estado', 'UF','Tipo'] # renomeando as colunas \n",
    "municipios_semiario_BR.head(5)"
   ]
  },
  {
   "cell_type": "markdown",
   "id": "f675ed30",
   "metadata": {},
   "source": [
    "instale a biblioteca para tratar os nomes dos municipios: (obs: apenas se não tiver a biblioteca instalada) "
   ]
  },
  {
   "cell_type": "code",
   "execution_count": 5,
   "id": "ef1bb6a8",
   "metadata": {},
   "outputs": [],
   "source": [
    "#pip install unidecode\n"
   ]
  },
  {
   "cell_type": "code",
   "execution_count": 6,
   "id": "b7444d8a",
   "metadata": {},
   "outputs": [
    {
     "data": {
      "text/html": [
       "<div>\n",
       "<style scoped>\n",
       "    .dataframe tbody tr th:only-of-type {\n",
       "        vertical-align: middle;\n",
       "    }\n",
       "\n",
       "    .dataframe tbody tr th {\n",
       "        vertical-align: top;\n",
       "    }\n",
       "\n",
       "    .dataframe thead th {\n",
       "        text-align: right;\n",
       "    }\n",
       "</style>\n",
       "<table border=\"1\" class=\"dataframe\">\n",
       "  <thead>\n",
       "    <tr style=\"text-align: right;\">\n",
       "      <th></th>\n",
       "      <th>codigo</th>\n",
       "      <th>Municipio</th>\n",
       "      <th>Estado</th>\n",
       "      <th>UF</th>\n",
       "      <th>Tipo</th>\n",
       "    </tr>\n",
       "  </thead>\n",
       "  <tbody>\n",
       "    <tr>\n",
       "      <th>0</th>\n",
       "      <td>2100154</td>\n",
       "      <td>AGUA DOCE DO MARANHAO</td>\n",
       "      <td>Maranhão</td>\n",
       "      <td>MA</td>\n",
       "      <td>RuralAdjacente</td>\n",
       "    </tr>\n",
       "    <tr>\n",
       "      <th>1</th>\n",
       "      <td>2100907</td>\n",
       "      <td>ARAIOSES</td>\n",
       "      <td>Maranhão</td>\n",
       "      <td>MA</td>\n",
       "      <td>RuralAdjacente</td>\n",
       "    </tr>\n",
       "    <tr>\n",
       "      <th>2</th>\n",
       "      <td>2101509</td>\n",
       "      <td>BARAO DE GRAJAU</td>\n",
       "      <td>Maranhão</td>\n",
       "      <td>MA</td>\n",
       "      <td>Urbano</td>\n",
       "    </tr>\n",
       "    <tr>\n",
       "      <th>3</th>\n",
       "      <td>2102101</td>\n",
       "      <td>BREJO</td>\n",
       "      <td>Maranhão</td>\n",
       "      <td>MA</td>\n",
       "      <td>RuralAdjacente</td>\n",
       "    </tr>\n",
       "    <tr>\n",
       "      <th>4</th>\n",
       "      <td>2102200</td>\n",
       "      <td>BURITI</td>\n",
       "      <td>Maranhão</td>\n",
       "      <td>MA</td>\n",
       "      <td>RuralAdjacente</td>\n",
       "    </tr>\n",
       "    <tr>\n",
       "      <th>...</th>\n",
       "      <td>...</td>\n",
       "      <td>...</td>\n",
       "      <td>...</td>\n",
       "      <td>...</td>\n",
       "      <td>...</td>\n",
       "    </tr>\n",
       "    <tr>\n",
       "      <th>1472</th>\n",
       "      <td>3202108</td>\n",
       "      <td>ECOPORANGA</td>\n",
       "      <td>Espírito Santo</td>\n",
       "      <td>ES</td>\n",
       "      <td>RuralAdjacente</td>\n",
       "    </tr>\n",
       "    <tr>\n",
       "      <th>1473</th>\n",
       "      <td>3202702</td>\n",
       "      <td>ITAGUACU</td>\n",
       "      <td>Espírito Santo</td>\n",
       "      <td>ES</td>\n",
       "      <td>RuralAdjacente</td>\n",
       "    </tr>\n",
       "    <tr>\n",
       "      <th>1474</th>\n",
       "      <td>3202900</td>\n",
       "      <td>ITARANA</td>\n",
       "      <td>Espírito Santo</td>\n",
       "      <td>ES</td>\n",
       "      <td>RuralAdjacente</td>\n",
       "    </tr>\n",
       "    <tr>\n",
       "      <th>1475</th>\n",
       "      <td>3203304</td>\n",
       "      <td>MANTENOPOLIS</td>\n",
       "      <td>Espírito Santo</td>\n",
       "      <td>ES</td>\n",
       "      <td>RuralAdjacente</td>\n",
       "    </tr>\n",
       "    <tr>\n",
       "      <th>1476</th>\n",
       "      <td>3203502</td>\n",
       "      <td>MONTANHA</td>\n",
       "      <td>Espírito Santo</td>\n",
       "      <td>ES</td>\n",
       "      <td>IntermediarioAdjacente</td>\n",
       "    </tr>\n",
       "  </tbody>\n",
       "</table>\n",
       "<p>1477 rows × 5 columns</p>\n",
       "</div>"
      ],
      "text/plain": [
       "       codigo              Municipio          Estado  UF  \\\n",
       "0     2100154  AGUA DOCE DO MARANHAO        Maranhão  MA   \n",
       "1     2100907               ARAIOSES        Maranhão  MA   \n",
       "2     2101509        BARAO DE GRAJAU        Maranhão  MA   \n",
       "3     2102101                  BREJO        Maranhão  MA   \n",
       "4     2102200                 BURITI        Maranhão  MA   \n",
       "...       ...                    ...             ...  ..   \n",
       "1472  3202108             ECOPORANGA  Espírito Santo  ES   \n",
       "1473  3202702               ITAGUACU  Espírito Santo  ES   \n",
       "1474  3202900                ITARANA  Espírito Santo  ES   \n",
       "1475  3203304           MANTENOPOLIS  Espírito Santo  ES   \n",
       "1476  3203502               MONTANHA  Espírito Santo  ES   \n",
       "\n",
       "                        Tipo  \n",
       "0             RuralAdjacente  \n",
       "1             RuralAdjacente  \n",
       "2                     Urbano  \n",
       "3             RuralAdjacente  \n",
       "4             RuralAdjacente  \n",
       "...                      ...  \n",
       "1472          RuralAdjacente  \n",
       "1473          RuralAdjacente  \n",
       "1474          RuralAdjacente  \n",
       "1475          RuralAdjacente  \n",
       "1476  IntermediarioAdjacente  \n",
       "\n",
       "[1477 rows x 5 columns]"
      ]
     },
     "execution_count": 6,
     "metadata": {},
     "output_type": "execute_result"
    }
   ],
   "source": [
    "# bibliotecas\n",
    "import pandas as pd\n",
    "from unidecode import unidecode\n",
    "\n",
    "# Função para remover a acentuação e converter para maiúsculas\n",
    "def remover_acentos(texto):\n",
    "    return unidecode(texto).upper()\n",
    "\n",
    "# Aplicar a função para a coluna \"Municipio\"\n",
    "municipios_semiario_BR['Municipio'] = municipios_semiario_BR['Municipio'].apply(remover_acentos)\n",
    "municipios_semiario_BR"
   ]
  },
  {
   "cell_type": "code",
   "execution_count": 7,
   "id": "9cf216d7",
   "metadata": {},
   "outputs": [],
   "source": [
    "# Se precisar salve o df em um arquivo :\n",
    "#municipios_semiario_BR.to_excel('municipios_semiario_BR.xlsx', index=False)"
   ]
  },
  {
   "cell_type": "markdown",
   "id": "92c9392a",
   "metadata": {},
   "source": [
    "# EXTRAINDO BASE DO DATASUS"
   ]
  },
  {
   "cell_type": "code",
   "execution_count": 8,
   "id": "59b51ca2",
   "metadata": {},
   "outputs": [
    {
     "data": {
      "text/html": [
       "<div>\n",
       "<style scoped>\n",
       "    .dataframe tbody tr th:only-of-type {\n",
       "        vertical-align: middle;\n",
       "    }\n",
       "\n",
       "    .dataframe tbody tr th {\n",
       "        vertical-align: top;\n",
       "    }\n",
       "\n",
       "    .dataframe thead th {\n",
       "        text-align: right;\n",
       "    }\n",
       "</style>\n",
       "<table border=\"1\" class=\"dataframe\">\n",
       "  <thead>\n",
       "    <tr style=\"text-align: right;\">\n",
       "      <th></th>\n",
       "      <th>&lt;OPTION VALUE=\"1\"&gt; MUNICIPIO IGNORADO - RO</th>\n",
       "    </tr>\n",
       "  </thead>\n",
       "  <tbody>\n",
       "    <tr>\n",
       "      <th>0</th>\n",
       "      <td>&lt;OPTION VALUE=\"2\"&gt;110001 ALTA FLORESTA D'O...</td>\n",
       "    </tr>\n",
       "    <tr>\n",
       "      <th>1</th>\n",
       "      <td>&lt;OPTION VALUE=\"3\"&gt;110002 ARIQUEMES</td>\n",
       "    </tr>\n",
       "    <tr>\n",
       "      <th>2</th>\n",
       "      <td>&lt;OPTION VALUE=\"4\"&gt;110003 CABIXI</td>\n",
       "    </tr>\n",
       "    <tr>\n",
       "      <th>3</th>\n",
       "      <td>&lt;OPTION VALUE=\"5\"&gt;110004 CACOAL</td>\n",
       "    </tr>\n",
       "    <tr>\n",
       "      <th>4</th>\n",
       "      <td>&lt;OPTION VALUE=\"6\"&gt;110005 CEREJEIRAS</td>\n",
       "    </tr>\n",
       "    <tr>\n",
       "      <th>...</th>\n",
       "      <td>...</td>\n",
       "    </tr>\n",
       "    <tr>\n",
       "      <th>5591</th>\n",
       "      <td>&lt;OPTION VALUE=\"5593\"&gt;522205 VICENTINOPOLIS</td>\n",
       "    </tr>\n",
       "    <tr>\n",
       "      <th>5592</th>\n",
       "      <td>&lt;OPTION VALUE=\"5594\"&gt;522220 VILA BOA</td>\n",
       "    </tr>\n",
       "    <tr>\n",
       "      <th>5593</th>\n",
       "      <td>&lt;OPTION VALUE=\"5595\"&gt;522230 VILA PROPICIO</td>\n",
       "    </tr>\n",
       "    <tr>\n",
       "      <th>5594</th>\n",
       "      <td>&lt;OPTION VALUE=\"5596\"&gt; MUNICIPIO IGNORADO - DF</td>\n",
       "    </tr>\n",
       "    <tr>\n",
       "      <th>5595</th>\n",
       "      <td>&lt;OPTION VALUE=\"5597\"&gt;530010 BRASILIA</td>\n",
       "    </tr>\n",
       "  </tbody>\n",
       "</table>\n",
       "<p>5596 rows × 1 columns</p>\n",
       "</div>"
      ],
      "text/plain": [
       "             <OPTION VALUE=\"1\"> MUNICIPIO IGNORADO - RO\n",
       "0         <OPTION VALUE=\"2\">110001 ALTA FLORESTA D'O...\n",
       "1                    <OPTION VALUE=\"3\">110002 ARIQUEMES\n",
       "2                       <OPTION VALUE=\"4\">110003 CABIXI\n",
       "3                       <OPTION VALUE=\"5\">110004 CACOAL\n",
       "4                   <OPTION VALUE=\"6\">110005 CEREJEIRAS\n",
       "...                                                 ...\n",
       "5591         <OPTION VALUE=\"5593\">522205 VICENTINOPOLIS\n",
       "5592               <OPTION VALUE=\"5594\">522220 VILA BOA\n",
       "5593          <OPTION VALUE=\"5595\">522230 VILA PROPICIO\n",
       "5594      <OPTION VALUE=\"5596\"> MUNICIPIO IGNORADO - DF\n",
       "5595               <OPTION VALUE=\"5597\">530010 BRASILIA\n",
       "\n",
       "[5596 rows x 1 columns]"
      ]
     },
     "execution_count": 8,
     "metadata": {},
     "output_type": "execute_result"
    }
   ],
   "source": [
    "html = pd.read_excel('html.xlsx')  \n",
    "html"
   ]
  },
  {
   "cell_type": "code",
   "execution_count": 9,
   "id": "5950d4b6",
   "metadata": {},
   "outputs": [
    {
     "name": "stdout",
     "output_type": "stream",
     "text": [
      "<class 'pandas.core.frame.DataFrame'>\n",
      "Int64Index: 5570 entries, 0 to 5595\n",
      "Data columns (total 3 columns):\n",
      " #   Column  Non-Null Count  Dtype \n",
      "---  ------  --------------  ----- \n",
      " 0   index   5570 non-null   object\n",
      " 1   nomes   5570 non-null   object\n",
      " 2   codigo  5570 non-null   int32 \n",
      "dtypes: int32(1), object(2)\n",
      "memory usage: 152.3+ KB\n"
     ]
    }
   ],
   "source": [
    "import pandas as pd\n",
    "import re\n",
    "\n",
    "def splitterv2(df):\n",
    "    nomes = []\n",
    "    codigo = []\n",
    "    index = []\n",
    "\n",
    "    for i in range(len(df)):\n",
    "        temp = re.split(\"=\", df.iloc[i, 0])[1]\n",
    "        index_val = re.split(\">\", temp)[0].strip('\"')  # Remover as aspas do índice\n",
    "        nomes_val = re.split(\" \", re.split(\">\", temp)[1], maxsplit=1)[1]\n",
    "        codigo_val = re.split(\" \", re.split(\">\", temp)[1], maxsplit=1)[0]\n",
    "\n",
    "        index.append(index_val)\n",
    "        nomes.append(nomes_val)\n",
    "        codigo.append(codigo_val)\n",
    "\n",
    "    data = pd.DataFrame({'index': index, 'nomes': nomes, 'codigo': codigo})\n",
    "    data['index'] = pd.to_numeric(data['index'], errors='coerce')\n",
    "    data['codigo'] = pd.to_numeric(data['codigo'], errors='coerce')\n",
    "    data = data.dropna(subset=['codigo'])\n",
    "    data['codigo'] = data['codigo'].astype(int)\n",
    "    data['index'] = data['index'].astype(object)\n",
    "\n",
    "\n",
    "    return data\n",
    "\n",
    "data = splitterv2(html)\n",
    "data.info()"
   ]
  },
  {
   "cell_type": "code",
   "execution_count": 10,
   "id": "b36a7bb5",
   "metadata": {},
   "outputs": [
    {
     "data": {
      "text/html": [
       "<div>\n",
       "<style scoped>\n",
       "    .dataframe tbody tr th:only-of-type {\n",
       "        vertical-align: middle;\n",
       "    }\n",
       "\n",
       "    .dataframe tbody tr th {\n",
       "        vertical-align: top;\n",
       "    }\n",
       "\n",
       "    .dataframe thead th {\n",
       "        text-align: right;\n",
       "    }\n",
       "</style>\n",
       "<table border=\"1\" class=\"dataframe\">\n",
       "  <thead>\n",
       "    <tr style=\"text-align: right;\">\n",
       "      <th></th>\n",
       "      <th>codigo</th>\n",
       "      <th>Municipio</th>\n",
       "      <th>Estado</th>\n",
       "      <th>UF</th>\n",
       "      <th>Tipo</th>\n",
       "    </tr>\n",
       "  </thead>\n",
       "  <tbody>\n",
       "    <tr>\n",
       "      <th>0</th>\n",
       "      <td>210015</td>\n",
       "      <td>AGUA DOCE DO MARANHAO</td>\n",
       "      <td>Maranhão</td>\n",
       "      <td>MA</td>\n",
       "      <td>RuralAdjacente</td>\n",
       "    </tr>\n",
       "    <tr>\n",
       "      <th>1</th>\n",
       "      <td>210090</td>\n",
       "      <td>ARAIOSES</td>\n",
       "      <td>Maranhão</td>\n",
       "      <td>MA</td>\n",
       "      <td>RuralAdjacente</td>\n",
       "    </tr>\n",
       "    <tr>\n",
       "      <th>2</th>\n",
       "      <td>210150</td>\n",
       "      <td>BARAO DE GRAJAU</td>\n",
       "      <td>Maranhão</td>\n",
       "      <td>MA</td>\n",
       "      <td>Urbano</td>\n",
       "    </tr>\n",
       "    <tr>\n",
       "      <th>3</th>\n",
       "      <td>210210</td>\n",
       "      <td>BREJO</td>\n",
       "      <td>Maranhão</td>\n",
       "      <td>MA</td>\n",
       "      <td>RuralAdjacente</td>\n",
       "    </tr>\n",
       "    <tr>\n",
       "      <th>4</th>\n",
       "      <td>210220</td>\n",
       "      <td>BURITI</td>\n",
       "      <td>Maranhão</td>\n",
       "      <td>MA</td>\n",
       "      <td>RuralAdjacente</td>\n",
       "    </tr>\n",
       "  </tbody>\n",
       "</table>\n",
       "</div>"
      ],
      "text/plain": [
       "   codigo              Municipio    Estado  UF            Tipo\n",
       "0  210015  AGUA DOCE DO MARANHAO  Maranhão  MA  RuralAdjacente\n",
       "1  210090               ARAIOSES  Maranhão  MA  RuralAdjacente\n",
       "2  210150        BARAO DE GRAJAU  Maranhão  MA          Urbano\n",
       "3  210210                  BREJO  Maranhão  MA  RuralAdjacente\n",
       "4  210220                 BURITI  Maranhão  MA  RuralAdjacente"
      ]
     },
     "execution_count": 10,
     "metadata": {},
     "output_type": "execute_result"
    }
   ],
   "source": [
    "# ---- Foi observado que o código fonte da pagina usa 6 caracteres no código do municipio --------\n",
    "\n",
    "# Ajustando a coluna 'codigo' para ter sempre 6 caracteres\n",
    "municipios_semiario_BR['codigo'] = municipios_semiario_BR['codigo'].astype(str).str.zfill(6).str[:6]\n",
    "\n",
    "#mudando o formato\n",
    "municipios_semiario_BR['codigo'] = municipios_semiario_BR['codigo'].astype(int)\n",
    "\n",
    "# Exibindo os primeiros registros após a modificação\n",
    "municipios_semiario_BR.head()"
   ]
  },
  {
   "cell_type": "code",
   "execution_count": 11,
   "id": "eaedf647",
   "metadata": {},
   "outputs": [
    {
     "data": {
      "text/html": [
       "<div>\n",
       "<style scoped>\n",
       "    .dataframe tbody tr th:only-of-type {\n",
       "        vertical-align: middle;\n",
       "    }\n",
       "\n",
       "    .dataframe tbody tr th {\n",
       "        vertical-align: top;\n",
       "    }\n",
       "\n",
       "    .dataframe thead th {\n",
       "        text-align: right;\n",
       "    }\n",
       "</style>\n",
       "<table border=\"1\" class=\"dataframe\">\n",
       "  <thead>\n",
       "    <tr style=\"text-align: right;\">\n",
       "      <th></th>\n",
       "      <th>codigo</th>\n",
       "      <th>Municipio</th>\n",
       "      <th>Estado</th>\n",
       "      <th>UF</th>\n",
       "      <th>Tipo</th>\n",
       "      <th>index</th>\n",
       "      <th>nomes</th>\n",
       "    </tr>\n",
       "  </thead>\n",
       "  <tbody>\n",
       "    <tr>\n",
       "      <th>0</th>\n",
       "      <td>210015</td>\n",
       "      <td>AGUA DOCE DO MARANHAO</td>\n",
       "      <td>Maranhão</td>\n",
       "      <td>MA</td>\n",
       "      <td>RuralAdjacente</td>\n",
       "      <td>461</td>\n",
       "      <td>AGUA DOCE DO MARANHAO</td>\n",
       "    </tr>\n",
       "    <tr>\n",
       "      <th>1</th>\n",
       "      <td>210090</td>\n",
       "      <td>ARAIOSES</td>\n",
       "      <td>Maranhão</td>\n",
       "      <td>MA</td>\n",
       "      <td>RuralAdjacente</td>\n",
       "      <td>474</td>\n",
       "      <td>ARAIOSES</td>\n",
       "    </tr>\n",
       "    <tr>\n",
       "      <th>2</th>\n",
       "      <td>210150</td>\n",
       "      <td>BARAO DE GRAJAU</td>\n",
       "      <td>Maranhão</td>\n",
       "      <td>MA</td>\n",
       "      <td>Urbano</td>\n",
       "      <td>483</td>\n",
       "      <td>BARAO DE GRAJAU</td>\n",
       "    </tr>\n",
       "    <tr>\n",
       "      <th>3</th>\n",
       "      <td>210210</td>\n",
       "      <td>BREJO</td>\n",
       "      <td>Maranhão</td>\n",
       "      <td>MA</td>\n",
       "      <td>RuralAdjacente</td>\n",
       "      <td>495</td>\n",
       "      <td>BREJO</td>\n",
       "    </tr>\n",
       "    <tr>\n",
       "      <th>4</th>\n",
       "      <td>210220</td>\n",
       "      <td>BURITI</td>\n",
       "      <td>Maranhão</td>\n",
       "      <td>MA</td>\n",
       "      <td>RuralAdjacente</td>\n",
       "      <td>497</td>\n",
       "      <td>BURITI</td>\n",
       "    </tr>\n",
       "    <tr>\n",
       "      <th>...</th>\n",
       "      <td>...</td>\n",
       "      <td>...</td>\n",
       "      <td>...</td>\n",
       "      <td>...</td>\n",
       "      <td>...</td>\n",
       "      <td>...</td>\n",
       "      <td>...</td>\n",
       "    </tr>\n",
       "    <tr>\n",
       "      <th>1472</th>\n",
       "      <td>320210</td>\n",
       "      <td>ECOPORANGA</td>\n",
       "      <td>Espírito Santo</td>\n",
       "      <td>ES</td>\n",
       "      <td>RuralAdjacente</td>\n",
       "      <td>3140</td>\n",
       "      <td>ECOPORANGA</td>\n",
       "    </tr>\n",
       "    <tr>\n",
       "      <th>1473</th>\n",
       "      <td>320270</td>\n",
       "      <td>ITAGUACU</td>\n",
       "      <td>Espírito Santo</td>\n",
       "      <td>ES</td>\n",
       "      <td>RuralAdjacente</td>\n",
       "      <td>3150</td>\n",
       "      <td>ITAGUACU</td>\n",
       "    </tr>\n",
       "    <tr>\n",
       "      <th>1474</th>\n",
       "      <td>320290</td>\n",
       "      <td>ITARANA</td>\n",
       "      <td>Espírito Santo</td>\n",
       "      <td>ES</td>\n",
       "      <td>RuralAdjacente</td>\n",
       "      <td>3152</td>\n",
       "      <td>ITARANA</td>\n",
       "    </tr>\n",
       "    <tr>\n",
       "      <th>1475</th>\n",
       "      <td>320330</td>\n",
       "      <td>MANTENOPOLIS</td>\n",
       "      <td>Espírito Santo</td>\n",
       "      <td>ES</td>\n",
       "      <td>RuralAdjacente</td>\n",
       "      <td>3159</td>\n",
       "      <td>MANTENOPOLIS</td>\n",
       "    </tr>\n",
       "    <tr>\n",
       "      <th>1476</th>\n",
       "      <td>320350</td>\n",
       "      <td>MONTANHA</td>\n",
       "      <td>Espírito Santo</td>\n",
       "      <td>ES</td>\n",
       "      <td>IntermediarioAdjacente</td>\n",
       "      <td>3164</td>\n",
       "      <td>MONTANHA</td>\n",
       "    </tr>\n",
       "  </tbody>\n",
       "</table>\n",
       "<p>1477 rows × 7 columns</p>\n",
       "</div>"
      ],
      "text/plain": [
       "      codigo              Municipio          Estado  UF  \\\n",
       "0     210015  AGUA DOCE DO MARANHAO        Maranhão  MA   \n",
       "1     210090               ARAIOSES        Maranhão  MA   \n",
       "2     210150        BARAO DE GRAJAU        Maranhão  MA   \n",
       "3     210210                  BREJO        Maranhão  MA   \n",
       "4     210220                 BURITI        Maranhão  MA   \n",
       "...      ...                    ...             ...  ..   \n",
       "1472  320210             ECOPORANGA  Espírito Santo  ES   \n",
       "1473  320270               ITAGUACU  Espírito Santo  ES   \n",
       "1474  320290                ITARANA  Espírito Santo  ES   \n",
       "1475  320330           MANTENOPOLIS  Espírito Santo  ES   \n",
       "1476  320350               MONTANHA  Espírito Santo  ES   \n",
       "\n",
       "                        Tipo index                  nomes  \n",
       "0             RuralAdjacente   461  AGUA DOCE DO MARANHAO  \n",
       "1             RuralAdjacente   474               ARAIOSES  \n",
       "2                     Urbano   483        BARAO DE GRAJAU  \n",
       "3             RuralAdjacente   495                  BREJO  \n",
       "4             RuralAdjacente   497                 BURITI  \n",
       "...                      ...   ...                    ...  \n",
       "1472          RuralAdjacente  3140             ECOPORANGA  \n",
       "1473          RuralAdjacente  3150               ITAGUACU  \n",
       "1474          RuralAdjacente  3152                ITARANA  \n",
       "1475          RuralAdjacente  3159           MANTENOPOLIS  \n",
       "1476  IntermediarioAdjacente  3164               MONTANHA  \n",
       "\n",
       "[1477 rows x 7 columns]"
      ]
     },
     "execution_count": 11,
     "metadata": {},
     "output_type": "execute_result"
    }
   ],
   "source": [
    "# Junte os DataFrames utilizando o código do município como chave\n",
    "\n",
    "semiario_completo = municipios_semiario_BR.merge(data[['codigo','index','nomes']],\n",
    "                                                 left_on='codigo', right_on='codigo', how='left')\n",
    "semiario_completo # resultado "
   ]
  },
  {
   "cell_type": "markdown",
   "id": "85659dd6",
   "metadata": {},
   "source": [
    "# Separando os municipios "
   ]
  },
  {
   "cell_type": "markdown",
   "id": "d8d5e177",
   "metadata": {},
   "source": [
    "-----------"
   ]
  },
  {
   "cell_type": "markdown",
   "id": "762b26e9",
   "metadata": {},
   "source": [
    "## Separando por tipologia"
   ]
  },
  {
   "cell_type": "code",
   "execution_count": 12,
   "id": "8f12978d",
   "metadata": {},
   "outputs": [
    {
     "name": "stdout",
     "output_type": "stream",
     "text": [
      "['RuralAdjacente' 'Urbano' 'RuralRemoto' 'IntermediarioAdjacente'\n",
      " 'IntermediarioRemoto']\n"
     ]
    }
   ],
   "source": [
    "# Substitua 'nome_da_coluna' pelo nome real da coluna que deseja verificar\n",
    "valores_unicos = semiario_completo['Tipo'].unique()\n",
    "\n",
    "# Exibindo os valores únicos presentes na coluna\n",
    "print(valores_unicos)"
   ]
  },
  {
   "cell_type": "code",
   "execution_count": 13,
   "id": "b131e5e2",
   "metadata": {},
   "outputs": [
    {
     "name": "stdout",
     "output_type": "stream",
     "text": [
      "['MA' 'PI' 'CE' 'RN' 'PB' 'PE' 'AL' 'SE' 'BA' 'MG' 'ES']\n"
     ]
    }
   ],
   "source": [
    "# Substitua 'nome_da_coluna' pelo nome real da coluna que deseja verificar\n",
    "valores_unicos = semiario_completo['UF'].unique()\n",
    "\n",
    "# Exibindo os valores únicos presentes na coluna\n",
    "print(valores_unicos)"
   ]
  },
  {
   "cell_type": "markdown",
   "id": "37b39407",
   "metadata": {},
   "source": [
    "* **RuralAdjacente**"
   ]
  },
  {
   "cell_type": "code",
   "execution_count": 14,
   "id": "363fb703",
   "metadata": {},
   "outputs": [],
   "source": [
    "RuralAdjacente = semiario_completo.loc[semiario_completo['Tipo'] == 'RuralAdjacente'].copy()"
   ]
  },
  {
   "cell_type": "markdown",
   "id": "4c81ce00",
   "metadata": {},
   "source": [
    "* separando por estados:"
   ]
  },
  {
   "cell_type": "code",
   "execution_count": 15,
   "id": "0da851c4",
   "metadata": {},
   "outputs": [],
   "source": [
    "RuralAdjacente_MA = RuralAdjacente.loc[RuralAdjacente['UF'] == 'MA'].copy()\n",
    "RuralAdjacente_PI = RuralAdjacente.loc[RuralAdjacente['UF'] == 'PI'].copy()\n",
    "RuralAdjacente_CE = RuralAdjacente.loc[RuralAdjacente['UF'] == 'CE'].copy()\n",
    "RuralAdjacente_RN = RuralAdjacente.loc[RuralAdjacente['UF'] == 'RN'].copy()\n",
    "RuralAdjacente_PB = RuralAdjacente.loc[RuralAdjacente['UF'] == 'PB'].copy()\n",
    "RuralAdjacente_PE = RuralAdjacente.loc[RuralAdjacente['UF'] == 'PE'].copy()\n",
    "RuralAdjacente_AL = RuralAdjacente.loc[RuralAdjacente['UF'] == 'AL'].copy()\n",
    "RuralAdjacente_SE = RuralAdjacente.loc[RuralAdjacente['UF'] == 'SE'].copy()\n",
    "RuralAdjacente_BA = RuralAdjacente.loc[RuralAdjacente['UF'] == 'BA'].copy()\n",
    "RuralAdjacente_MG = RuralAdjacente.loc[RuralAdjacente['UF'] == 'MG'].copy()\n",
    "RuralAdjacente_ES = RuralAdjacente.loc[RuralAdjacente['UF'] == 'ES'].copy()"
   ]
  },
  {
   "cell_type": "markdown",
   "id": "6a3707d2",
   "metadata": {},
   "source": [
    "* **Urbano**"
   ]
  },
  {
   "cell_type": "code",
   "execution_count": 16,
   "id": "094cbd71",
   "metadata": {},
   "outputs": [],
   "source": [
    "Urbano = semiario_completo.loc[semiario_completo['Tipo'] == 'Urbano'].copy()"
   ]
  },
  {
   "cell_type": "markdown",
   "id": "1de2286c",
   "metadata": {},
   "source": [
    "* separando por estados:"
   ]
  },
  {
   "cell_type": "code",
   "execution_count": 17,
   "id": "a67615e6",
   "metadata": {},
   "outputs": [],
   "source": [
    "Urbano_MA = Urbano.loc[Urbano['UF'] == 'MA'].copy()\n",
    "Urbano_PI = Urbano.loc[Urbano['UF'] == 'PI'].copy()\n",
    "Urbano_CE = Urbano.loc[Urbano['UF'] == 'CE'].copy()\n",
    "Urbano_RN = Urbano.loc[Urbano['UF'] == 'RN'].copy()\n",
    "Urbano_PB = Urbano.loc[Urbano['UF'] == 'PB'].copy()\n",
    "Urbano_PE = Urbano.loc[Urbano['UF'] == 'PE'].copy()\n",
    "Urbano_AL = Urbano.loc[Urbano['UF'] == 'AL'].copy()\n",
    "Urbano_SE = Urbano.loc[Urbano['UF'] == 'SE'].copy()\n",
    "Urbano_BA = Urbano.loc[Urbano['UF'] == 'BA'].copy()\n",
    "Urbano_MG = Urbano.loc[Urbano['UF'] == 'MG'].copy()\n",
    "Urbano_ES = Urbano.loc[Urbano['UF'] == 'ES'].copy()"
   ]
  },
  {
   "cell_type": "markdown",
   "id": "c75e7fa1",
   "metadata": {},
   "source": [
    "* **RuralRemoto**"
   ]
  },
  {
   "cell_type": "code",
   "execution_count": 18,
   "id": "c499b51a",
   "metadata": {},
   "outputs": [],
   "source": [
    "RuralRemoto = semiario_completo.loc[semiario_completo['Tipo'] == 'RuralRemoto'].copy()"
   ]
  },
  {
   "cell_type": "markdown",
   "id": "ad78503a",
   "metadata": {},
   "source": [
    "* separando por estados:"
   ]
  },
  {
   "cell_type": "code",
   "execution_count": 19,
   "id": "5d5beee9",
   "metadata": {},
   "outputs": [],
   "source": [
    "RuralRemoto_MA = RuralRemoto.loc[RuralRemoto['UF'] == 'MA'].copy()\n",
    "RuralRemoto_PI = RuralRemoto.loc[RuralRemoto['UF'] == 'PI'].copy()\n",
    "RuralRemoto_CE = RuralRemoto.loc[RuralRemoto['UF'] == 'CE'].copy()\n",
    "RuralRemoto_RN = RuralRemoto.loc[RuralRemoto['UF'] == 'RN'].copy()\n",
    "RuralRemoto_PB = RuralRemoto.loc[RuralRemoto['UF'] == 'PB'].copy()\n",
    "RuralRemoto_PE = RuralRemoto.loc[RuralRemoto['UF'] == 'PE'].copy()\n",
    "RuralRemoto_AL = RuralRemoto.loc[RuralRemoto['UF'] == 'AL'].copy()\n",
    "RuralRemoto_SE = RuralRemoto.loc[RuralRemoto['UF'] == 'SE'].copy()\n",
    "RuralRemoto_BA = RuralRemoto.loc[RuralRemoto['UF'] == 'BA'].copy()\n",
    "RuralRemoto_MG = RuralRemoto.loc[RuralRemoto['UF'] == 'MG'].copy()\n",
    "RuralRemoto_ES = RuralRemoto.loc[RuralRemoto['UF'] == 'ES'].copy()"
   ]
  },
  {
   "cell_type": "markdown",
   "id": "fe3232c4",
   "metadata": {},
   "source": [
    "* **IntermediarioAdjacente**"
   ]
  },
  {
   "cell_type": "code",
   "execution_count": 20,
   "id": "2bed32c8",
   "metadata": {},
   "outputs": [],
   "source": [
    "IntermediarioAdjacente = semiario_completo.loc[semiario_completo['Tipo'] == 'IntermediarioAdjacente'].copy()"
   ]
  },
  {
   "cell_type": "markdown",
   "id": "99bee136",
   "metadata": {},
   "source": [
    "* separando por estados:"
   ]
  },
  {
   "cell_type": "code",
   "execution_count": 21,
   "id": "a784c961",
   "metadata": {},
   "outputs": [],
   "source": [
    "IntermediarioAdjacente_MA = IntermediarioAdjacente.loc[IntermediarioAdjacente['UF'] == 'MA'].copy()\n",
    "IntermediarioAdjacente_PI = IntermediarioAdjacente.loc[IntermediarioAdjacente['UF'] == 'PI'].copy()\n",
    "IntermediarioAdjacente_CE = IntermediarioAdjacente.loc[IntermediarioAdjacente['UF'] == 'CE'].copy()\n",
    "IntermediarioAdjacente_RN = IntermediarioAdjacente.loc[IntermediarioAdjacente['UF'] == 'RN'].copy()\n",
    "IntermediarioAdjacente_PB = IntermediarioAdjacente.loc[IntermediarioAdjacente['UF'] == 'PB'].copy()\n",
    "IntermediarioAdjacente_PE = IntermediarioAdjacente.loc[IntermediarioAdjacente['UF'] == 'PE'].copy()\n",
    "IntermediarioAdjacente_AL = IntermediarioAdjacente.loc[IntermediarioAdjacente['UF'] == 'AL'].copy()\n",
    "IntermediarioAdjacente_SE = IntermediarioAdjacente.loc[IntermediarioAdjacente['UF'] == 'SE'].copy()\n",
    "IntermediarioAdjacente_BA = IntermediarioAdjacente.loc[IntermediarioAdjacente['UF'] == 'BA'].copy()\n",
    "IntermediarioAdjacente_MG = IntermediarioAdjacente.loc[IntermediarioAdjacente['UF'] == 'MG'].copy()\n",
    "IntermediarioAdjacente_ES = IntermediarioAdjacente.loc[IntermediarioAdjacente['UF'] == 'ES'].copy()"
   ]
  },
  {
   "cell_type": "markdown",
   "id": "eb5b9df1",
   "metadata": {},
   "source": [
    "* **IntermediarioRemoto**"
   ]
  },
  {
   "cell_type": "code",
   "execution_count": 22,
   "id": "a84856ea",
   "metadata": {},
   "outputs": [],
   "source": [
    "IntermediarioRemoto = semiario_completo.loc[semiario_completo['Tipo'] == 'IntermediarioRemoto'].copy()"
   ]
  },
  {
   "cell_type": "markdown",
   "id": "3effd525",
   "metadata": {},
   "source": [
    "* separando por estados:"
   ]
  },
  {
   "cell_type": "code",
   "execution_count": 23,
   "id": "f8c63c3f",
   "metadata": {},
   "outputs": [],
   "source": [
    "IntermediarioRemoto_MA = IntermediarioRemoto.loc[IntermediarioRemoto['UF'] == 'MA'].copy()\n",
    "IntermediarioRemoto_PI = IntermediarioRemoto.loc[IntermediarioRemoto['UF'] == 'PI'].copy()\n",
    "IntermediarioRemoto_CE = IntermediarioRemoto.loc[IntermediarioRemoto['UF'] == 'CE'].copy()\n",
    "IntermediarioRemoto_RN = IntermediarioRemoto.loc[IntermediarioRemoto['UF'] == 'RN'].copy()\n",
    "IntermediarioRemoto_PB = IntermediarioRemoto.loc[IntermediarioRemoto['UF'] == 'PB'].copy()\n",
    "IntermediarioRemoto_PE = IntermediarioRemoto.loc[IntermediarioRemoto['UF'] == 'PE'].copy()\n",
    "IntermediarioRemoto_AL = IntermediarioRemoto.loc[IntermediarioRemoto['UF'] == 'AL'].copy()\n",
    "IntermediarioRemoto_SE = IntermediarioRemoto.loc[IntermediarioRemoto['UF'] == 'SE'].copy()\n",
    "IntermediarioRemoto_BA = IntermediarioRemoto.loc[IntermediarioRemoto['UF'] == 'BA'].copy()\n",
    "IntermediarioRemoto_MG = IntermediarioRemoto.loc[IntermediarioRemoto['UF'] == 'MG'].copy()\n",
    "IntermediarioRemoto_ES = IntermediarioRemoto.loc[IntermediarioRemoto['UF'] == 'ES'].copy()"
   ]
  },
  {
   "cell_type": "code",
   "execution_count": 24,
   "id": "73b99aec",
   "metadata": {},
   "outputs": [
    {
     "name": "stdout",
     "output_type": "stream",
     "text": [
      "Quant de municipios do tipo intermediario Remoto MA: 0\n",
      "Quant de municipios do tipo intermediario Remoto PI: 2\n",
      "Quant de municipios do tipo intermediario Remoto CE: 0\n",
      "Quant de municipios do tipo intermediario Remoto RN: 0\n",
      "Quant de municipios do tipo intermediario Remoto PB: 0\n",
      "Quant de municipios do tipo intermediario Remoto PE: 1\n",
      "Quant de municipios do tipo intermediario Remoto AL: 0\n",
      "Quant de municipios do tipo intermediario Remoto SE: 0\n",
      "Quant de municipios do tipo intermediario Remoto BA: 1\n",
      "Quant de municipios do tipo intermediario Remoto MG: 3\n",
      "Quant de municipios do tipo intermediario Remoto ES: 0\n"
     ]
    }
   ],
   "source": [
    "# verificando a quantidade de municipios por essa distribuição \n",
    "print(\"Quant de municipios do tipo intermediario Remoto MA:\",len(IntermediarioRemoto_MA)) # não tem municipio \n",
    "print(\"Quant de municipios do tipo intermediario Remoto PI:\",len(IntermediarioRemoto_PI))\n",
    "print(\"Quant de municipios do tipo intermediario Remoto CE:\",len(IntermediarioRemoto_CE))# não tem municipio \n",
    "print(\"Quant de municipios do tipo intermediario Remoto RN:\",len(IntermediarioRemoto_RN))# não tem municipio \n",
    "print(\"Quant de municipios do tipo intermediario Remoto PB:\",len(IntermediarioRemoto_PB))# não tem municipio \n",
    "print(\"Quant de municipios do tipo intermediario Remoto PE:\",len(IntermediarioRemoto_PE))\n",
    "print(\"Quant de municipios do tipo intermediario Remoto AL:\",len(IntermediarioRemoto_AL))# não tem municipio \n",
    "print(\"Quant de municipios do tipo intermediario Remoto SE:\",len(IntermediarioRemoto_SE))# não tem municipio \n",
    "print(\"Quant de municipios do tipo intermediario Remoto BA:\",len(IntermediarioRemoto_BA))\n",
    "print(\"Quant de municipios do tipo intermediario Remoto MG:\",len(IntermediarioRemoto_MG))\n",
    "print(\"Quant de municipios do tipo intermediario Remoto ES:\",len(IntermediarioRemoto_ES)) # não tem municipio "
   ]
  },
  {
   "cell_type": "markdown",
   "id": "ee90a40c",
   "metadata": {},
   "source": [
    "# Selecionar os municipios que desejo "
   ]
  },
  {
   "cell_type": "markdown",
   "id": "9dd27839",
   "metadata": {},
   "source": [
    "----------------------"
   ]
  },
  {
   "cell_type": "markdown",
   "id": "3ea6ff97",
   "metadata": {},
   "source": [
    "Função que faz os cliques :"
   ]
  },
  {
   "cell_type": "code",
   "execution_count": 25,
   "id": "f7f80903",
   "metadata": {},
   "outputs": [],
   "source": [
    "def rode_2():\n",
    "    def select(opcao):\n",
    "        sleep(2)\n",
    "        if opcao == 1:\n",
    "            driver.get(\"http://tabnet.datasus.gov.br/cgi/deftohtm.exe?sim/cnv/ext10br.def\") #ÓBITOS POR CAUSAS EXTERNAS\n",
    "            driver.find_element(By.CSS_SELECTOR, \"#fig1\").click()\n",
    "            driver.find_element(By.CSS_SELECTOR, \"#S1 > option:nth-child(1)\").click()\n",
    "            for index in lista:\n",
    "                driver.find_element(By.CSS_SELECTOR,\"#S1 > option:nth-child(%s)\" % index).click()\n",
    "    \n",
    "        elif opcao == 2:\n",
    "            driver.get(\"http://tabnet.datasus.gov.br/cgi/deftohtm.exe?ibge/cnv/popsvsbr.def\") #POPULAÇÃO RESIDENTE \n",
    "            driver.find_element(By.CSS_SELECTOR, \"#fig3\").click()\n",
    "            driver.find_element(By.CSS_SELECTOR, \"#S3 > option:nth-child(1)\").click()\n",
    "            for index in lista:\n",
    "                driver.find_element(By.CSS_SELECTOR,\"#S3 > option:nth-child(%s)\" % index).click()\n",
    "\n",
    "        elif opcao == 3:\n",
    "            driver.get(\"http://tabnet.datasus.gov.br/cgi/deftohtm.exe?sim/cnv/obt10br.def\") # link de mortalidade \n",
    "            driver.find_element(By.CSS_SELECTOR, \"#fig1\").click()\n",
    "            driver.find_element(By.CSS_SELECTOR, \"#S1 > option:nth-child(1)\").click()\n",
    "            for index in lista:\n",
    "                driver.find_element(By.CSS_SELECTOR, \"#S1 > option:nth-child(%s)\" % index).click()\n",
    "            \n",
    "        elif opcao == 2022:\n",
    "            driver.get(\"http://tabnet.datasus.gov.br/cgi/deftohtm.exe?sim/cnv/pobt10br.def\") #dados de mortalidade préliminares 2022\n",
    "            driver.find_element(By.CSS_SELECTOR, \"#fig1\").click()\n",
    "            driver.find_element(By.CSS_SELECTOR, \"#S1 > option:nth-child(1)\").click()\n",
    "            for index in lista:\n",
    "                driver.find_element(By.CSS_SELECTOR,\"#S1 > option:nth-child(%s)\" % index).click()"
   ]
  },
  {
   "cell_type": "markdown",
   "id": "11142d5f",
   "metadata": {},
   "source": [
    "Instale as bibliotecas necessarias: (apenas se não tiver instalado)"
   ]
  },
  {
   "cell_type": "code",
   "execution_count": 26,
   "id": "2ee7be10",
   "metadata": {},
   "outputs": [],
   "source": [
    "# pip install selenium and pandas"
   ]
  },
  {
   "cell_type": "markdown",
   "id": "b6fed619",
   "metadata": {},
   "source": [
    "Para está etapa é necessario:\n",
    "\n",
    "* adicionar o caminho que o navegado chrome está instalado na sua maquina\n",
    "* \n",
    "* baixar o ChromeDriver (esse cara que vai gerenciar o que pedimos para ele  selecionar os municipios!)\n",
    "baixe em : https://sites.google.com/chromium.org/driver/downloads?authuser=0\n",
    "baixei clicando em: ChromeDriver 114.0.5735.90 (você pode baixar a versão mais recente)\n",
    "escolha o sistema operacional em: https://chromedriver.storage.googleapis.com/index.html?path=114.0.5735.90/ (caso baixe a mesma versão que baixei)\n",
    "* \n",
    "* depois de baixar, extraia a pasta em zip e copie o caminho da pasta ChromeDriver"
   ]
  },
  {
   "cell_type": "code",
   "execution_count": 27,
   "id": "40352666",
   "metadata": {},
   "outputs": [],
   "source": [
    "from selenium import webdriver\n",
    "from selenium.webdriver.common.by import By\n",
    "from selenium.webdriver.firefox.options import Options\n",
    "from time import sleep\n",
    "import pandas as pd\n",
    "\n",
    "from selenium import webdriver\n",
    "from selenium.webdriver.chrome.options import Options\n",
    "\n",
    "\n",
    "    # Configurando as opções do Chrome\n",
    "    # informe aonde o seu chrome está baixado na sua maquina \n",
    "options = Options()\n",
    "options.binary_location = r\"C:\\Program Files\\Google\\Chrome\\Application\\chrome.exe\"  # Altere o caminho de acordo com o seu\n",
    "\n",
    "# Especificando o caminho do ChromeDriver\n",
    "chromedriver_path = r\"C:\\Users\\Administrador\\Documents\\PIBIC\\scrip\\script_para_extrair_dados\\chromedriver_win32\\chromedriver.exe\"  # Substitua pelo seu caminho do chromedriver.exe\n",
    "\n",
    "# Adicionando o caminho do ChromeDriver diretamente às opções\n",
    "options.add_argument(f\"webdriver.chrome.driver={chromedriver_path}\")\n",
    "\n",
    "# Criando o driver do Chrome com as opções\n",
    "driver = webdriver.Chrome(options=options)\n",
    "\n",
    "# Agora você pode usar 'driver' para automatizar ações no Google Chrome\n"
   ]
  },
  {
   "cell_type": "markdown",
   "id": "3fe93892",
   "metadata": {},
   "source": [
    "# ATENÇÃO : NÃO FECHE O NAVEGADOR QUE VAI ABRIR !"
   ]
  },
  {
   "cell_type": "code",
   "execution_count": 28,
   "id": "efeb9fbb",
   "metadata": {},
   "outputs": [],
   "source": [
    "from selenium.webdriver.support.ui import WebDriverWait\n",
    "from selenium.webdriver.support import expected_conditions as EC\n",
    "lista_urls = []\n",
    "def select(opcao, sexo, ano):\n",
    "    sleep(2)\n",
    "    if opcao == 3:\n",
    "        driver.get(\"http://tabnet.datasus.gov.br/cgi/deftohtm.exe?sim/cnv/obt10br.def\")  # link de mortalidade\n",
    "        \n",
    "    # seleciona os municipios ------------------------------------------------------\n",
    "        driver.find_element(By.CSS_SELECTOR, \"#fig1\").click() # seleciona municípios\n",
    "        driver.find_element(By.CSS_SELECTOR, \"#S1 > option:nth-child(1)\").click()  \n",
    "        for index in lista:\n",
    "            driver.find_element(By.CSS_SELECTOR, \"#S1 > option:nth-child(%s)\" % index).click()\n",
    "\n",
    "        driver.find_element(By.CSS_SELECTOR, \"#L > option[value='Causa_-_CID-BR-10']\").click()  # seleciona linha: Grupo CID 10\n",
    "        driver.find_element(By.CSS_SELECTOR, \"#C > option[value='Faixa_Etária_det']\").click()  # seleciona coluna: Faixa etaria\n",
    "       \n",
    "    # seleciona o sexo -------------------------------------------------------------\n",
    "        driver.find_element(By.CSS_SELECTOR, \"#fig23\").click()\n",
    "        sexo_element = driver.find_element(By.CSS_SELECTOR, \"#S23 > option[value='TODAS_AS_CATEGORIAS__']\") # Desmarca todas as categorias\n",
    "        if sexo_element.is_selected():\n",
    "            sexo_element.click() \n",
    "\n",
    "        if sexo == 'F':\n",
    "            driver.find_element(By.CSS_SELECTOR, \"#S23 > option[value='2']\").click() # Feminino\n",
    "        elif sexo == 'M':\n",
    "            driver.find_element(By.CSS_SELECTOR, \"#S23 > option[value='1']\").click() # masculino\n",
    "            \n",
    "    # seleciona o ano -------------------------------------------------------------\n",
    "        ano_2022_element = driver.find_element(By.CSS_SELECTOR, \"#A > option[value='obtbr22.dbf']\") # Desmarca o ano 2022\n",
    "        if ano_2022_element.is_selected():\n",
    "            ano_2022_element.click()\n",
    "\n",
    "        if ano == 2017:\n",
    "            driver.find_element(By.CSS_SELECTOR, \"#A > option[value='obtbr17.dbf']\").click()\n",
    "        elif ano == 2018:\n",
    "            driver.find_element(By.CSS_SELECTOR, \"#A > option[value='obtbr18.dbf']\").click()\n",
    "        elif ano == 2019:\n",
    "            driver.find_element(By.CSS_SELECTOR, \"#A > option[value='obtbr19.dbf']\").click()\n",
    "        elif ano == 2020:\n",
    "            driver.find_element(By.CSS_SELECTOR, \"#A > option[value='obtbr20.dbf']\").click()\n",
    "        elif ano == 2021:\n",
    "            driver.find_element(By.CSS_SELECTOR, \"#A > option[value='obtbr21.dbf']\").click()\n",
    "        elif ano == 2022:\n",
    "            driver.find_element(By.CSS_SELECTOR, \"#A > option[value='obtbr22.dbf']\").click()\n",
    "            \n",
    "    # clica no botão mostrar Mostra\n",
    "        driver.find_element(By.CSS_SELECTOR, \"input[name='mostre']\").click()\n",
    "        lista_urls.append(driver.current_url)"
   ]
  },
  {
   "cell_type": "code",
   "execution_count": 29,
   "id": "9fc1cef0",
   "metadata": {},
   "outputs": [
    {
     "ename": "SyntaxError",
     "evalue": "invalid syntax (4149200854.py, line 1)",
     "output_type": "error",
     "traceback": [
      "\u001b[1;36m  Cell \u001b[1;32mIn[29], line 1\u001b[1;36m\u001b[0m\n\u001b[1;33m    para aqui\u001b[0m\n\u001b[1;37m         ^\u001b[0m\n\u001b[1;31mSyntaxError\u001b[0m\u001b[1;31m:\u001b[0m invalid syntax\n"
     ]
    }
   ],
   "source": [
    "para aqui "
   ]
  },
  {
   "cell_type": "markdown",
   "id": "b59fc5f6",
   "metadata": {},
   "source": [
    "# Selecionando municipios do Rural Adjacente"
   ]
  },
  {
   "cell_type": "code",
   "execution_count": 30,
   "id": "96be71ff",
   "metadata": {},
   "outputs": [
    {
     "data": {
      "text/plain": [
       "4"
      ]
     },
     "execution_count": 30,
     "metadata": {},
     "output_type": "execute_result"
    }
   ],
   "source": [
    "# Quantidade de municipios \n",
    "len(RuralAdjacente_ES)"
   ]
  },
  {
   "cell_type": "code",
   "execution_count": 31,
   "id": "a7309833",
   "metadata": {},
   "outputs": [],
   "source": [
    "lista = RuralAdjacente_ES\n",
    "lista = lista['index'] + 1\n",
    "\n",
    "select(3, 'F',2017)\n",
    "select(3, 'F',2018)\n",
    "select(3, 'F',2019)\n",
    "select(3, 'F',2020)\n",
    "select(3, 'F',2021)\n",
    "select(3, 'F',2022)\n",
    "\n",
    "select(3, 'M',2017)\n",
    "select(3, 'M',2018)\n",
    "select(3, 'M',2019)\n",
    "select(3, 'M',2020)\n",
    "select(3, 'M',2021)\n",
    "select(3, 'M',2022)"
   ]
  },
  {
   "cell_type": "markdown",
   "id": "c186c055",
   "metadata": {},
   "source": [
    "| tipologia/estado  | Quant de Municipios  | baixou |\n",
    "|-------------------|-------|--------|\n",
    "| RuralAdjacente_MA | 13    | ok     |\n",
    "| RuralAdjacente_PI | 144   | ok     |\n",
    "| RuralAdjacente_CE | 131   |  ok    |\n",
    "| RuralAdjacente_RN | 105   |  OK    |\n",
    "| RuralAdjacente_PB | 156   |  OK    |\n",
    "| RuralAdjacente_PE | 80    |  OK    |\n",
    "| RuralAdjacente_AL | 35    |  OK    |\n",
    "| RuralAdjacente_SE | 19    | OK     |\n",
    "| RuralAdjacente_BA | 197   | OK     |\n",
    "| RuralAdjacente_MG | 151   |  OK    |\n",
    "| RuralAdjacente_ES | 4     |   OK     |"
   ]
  },
  {
   "cell_type": "code",
   "execution_count": null,
   "id": "e78e58fd",
   "metadata": {},
   "outputs": [],
   "source": [
    "11*12"
   ]
  },
  {
   "cell_type": "markdown",
   "id": "d32cbf02",
   "metadata": {},
   "source": [
    "# Selecionando municipios do Urbano"
   ]
  },
  {
   "cell_type": "code",
   "execution_count": null,
   "id": "f537e1e2",
   "metadata": {},
   "outputs": [],
   "source": [
    "# Quantidade de municipios \n",
    "len(Urbano_ES)"
   ]
  },
  {
   "cell_type": "code",
   "execution_count": null,
   "id": "4853f4f8",
   "metadata": {},
   "outputs": [],
   "source": [
    "lista = Urbano_ES\n",
    "lista = lista['index'] + 1\n",
    "\n",
    "select(3, 'F',2017)\n",
    "select(3, 'F',2018)\n",
    "select(3, 'F',2019)\n",
    "select(3, 'F',2020)\n",
    "select(3, 'F',2021)\n",
    "select(3, 'F',2022)\n",
    "\n",
    "select(3, 'M',2017)\n",
    "select(3, 'M',2018)\n",
    "select(3, 'M',2019)\n",
    "select(3, 'M',2020)\n",
    "select(3, 'M',2021)\n",
    "select(3, 'M',2022)"
   ]
  },
  {
   "cell_type": "markdown",
   "id": "5afb3eea",
   "metadata": {},
   "source": [
    "| tipologia/estado  | Quant de Municipios  | baixou |\n",
    "|-------------------|-------|--------|\n",
    "| Urbano_MA | 3    |   OK   |\n",
    "| Urbano_PI | 11   |   OK  |\n",
    "| Urbano_CE |  23  |   OK   |\n",
    "| Urbano_RN | 12   |   OK   |\n",
    "| Urbano_PB | 22   |   OK   |\n",
    "| Urbano_PE | 31   |   OK   |\n",
    "| Urbano_AL |  4   |   OK     |\n",
    "| Urbano_SE |  3   |    OK    |\n",
    "| Urbano_BA |   29 |    OK    |\n",
    "| Urbano_MG |  18  |   OK     |\n",
    "| Urbano_ES |   0  |   -     |"
   ]
  },
  {
   "cell_type": "code",
   "execution_count": null,
   "id": "adc83cc1",
   "metadata": {},
   "outputs": [],
   "source": [
    "10*12 # quantidade de arquivos que precisa ter na pasta da tipologia Urbano "
   ]
  },
  {
   "cell_type": "markdown",
   "id": "6caecbfd",
   "metadata": {},
   "source": [
    "# Selecionando municipios do RuralRemoto"
   ]
  },
  {
   "cell_type": "code",
   "execution_count": null,
   "id": "fbc1d816",
   "metadata": {},
   "outputs": [],
   "source": [
    "# Quantidade de municipios \n",
    "len(RuralRemoto_MG)"
   ]
  },
  {
   "cell_type": "code",
   "execution_count": null,
   "id": "1f3be380",
   "metadata": {},
   "outputs": [],
   "source": [
    "lista = RuralRemoto_MG\n",
    "lista = lista['index'] + 1\n",
    "\n",
    "select(3, 'F',2017)\n",
    "select(3, 'F',2018)\n",
    "select(3, 'F',2019)\n",
    "select(3, 'F',2020)\n",
    "select(3, 'F',2021)\n",
    "select(3, 'F',2022)\n",
    "\n",
    "select(3, 'M',2017)\n",
    "select(3, 'M',2018)\n",
    "select(3, 'M',2019)\n",
    "select(3, 'M',2020)\n",
    "select(3, 'M',2021)\n",
    "select(3, 'M',2022)"
   ]
  },
  {
   "cell_type": "markdown",
   "id": "d31037c7",
   "metadata": {},
   "source": [
    "| tipologia/estado  | Quant de Municipios  | baixou |\n",
    "|-------------------|-------|--------|\n",
    "| RuralRemoto_MA |-    |   -   |\n",
    "| RuralRemoto_PI | 46  |  OK   |\n",
    "| RuralRemoto_CE | -  |  -   |\n",
    "| RuralRemoto_RN | -  |   -   |\n",
    "| RuralRemoto_PB | -  |    -  |\n",
    "| RuralRemoto_PE | -  |   -   |\n",
    "| RuralRemoto_AL | -  |    -    |\n",
    "| RuralRemoto_SE | -  |   -     |\n",
    "| RuralRemoto_BA | 24   |    OK    |\n",
    "| RuralRemoto_MG | 20   |   OK     |\n",
    "| RuralRemoto_ES |  -   |    -    |"
   ]
  },
  {
   "cell_type": "code",
   "execution_count": null,
   "id": "c4e9a763",
   "metadata": {},
   "outputs": [],
   "source": [
    "3*12 # quantidade de arquivos que precisa ter na pasta da tipologia Urbano "
   ]
  },
  {
   "cell_type": "markdown",
   "id": "9b6d0d63",
   "metadata": {},
   "source": [
    "# Selecionando municipios do IntermediarioAdjacente"
   ]
  },
  {
   "cell_type": "code",
   "execution_count": null,
   "id": "e33a18f3",
   "metadata": {},
   "outputs": [],
   "source": [
    "# Quantidade de municipios \n",
    "len(IntermediarioAdjacente_ES)"
   ]
  },
  {
   "cell_type": "code",
   "execution_count": null,
   "id": "c521428c",
   "metadata": {},
   "outputs": [],
   "source": [
    "lista = IntermediarioAdjacente_ES\n",
    "lista = lista['index'] + 1\n",
    "\n",
    "select(3, 'F',2017)\n",
    "select(3, 'F',2018)\n",
    "select(3, 'F',2019)\n",
    "select(3, 'F',2020)\n",
    "select(3, 'F',2021)\n",
    "select(3, 'F',2022)\n",
    "\n",
    "select(3, 'M',2017)\n",
    "select(3, 'M',2018)\n",
    "select(3, 'M',2019)\n",
    "select(3, 'M',2020)\n",
    "select(3, 'M',2021)\n",
    "select(3, 'M',2022)"
   ]
  },
  {
   "cell_type": "markdown",
   "id": "e67f9923",
   "metadata": {},
   "source": [
    "| tipologia/estado  | Quant de Municipios  | baixou |\n",
    "|-------------------|-------|--------|\n",
    "| IntermediarioAdjacente_MA | -    |   -   |\n",
    "| IntermediarioAdjacente_PI | 13  |   OK  |\n",
    "| IntermediarioAdjacente_CE |  21 |   OK   |\n",
    "| IntermediarioAdjacente_RN |  31 |   OK   |\n",
    "| IntermediarioAdjacente_PB | 20  |  OK    |\n",
    "| IntermediarioAdjacente_PE | 30 |   OK   |\n",
    "| IntermediarioAdjacente_AL | 3  |     OK   |\n",
    "| IntermediarioAdjacente_SE | 8   |   OK     |\n",
    "| IntermediarioAdjacente_BA | 36  |    OK    |\n",
    "| IntermediarioAdjacente_MG |  25  |     OK   |\n",
    "| IntermediarioAdjacente_ES |  2   |    OK    |"
   ]
  },
  {
   "cell_type": "code",
   "execution_count": null,
   "id": "3273a3be",
   "metadata": {},
   "outputs": [],
   "source": [
    "10*12"
   ]
  },
  {
   "cell_type": "markdown",
   "id": "b006c71e",
   "metadata": {},
   "source": [
    "# Selecionando municipios do IntermediarioAdjacente"
   ]
  },
  {
   "cell_type": "code",
   "execution_count": null,
   "id": "0e8dc3e0",
   "metadata": {},
   "outputs": [],
   "source": [
    "# Quantidade de municipios \n",
    "len(IntermediarioRemoto_ES)"
   ]
  },
  {
   "cell_type": "code",
   "execution_count": null,
   "id": "0f236b5e",
   "metadata": {},
   "outputs": [],
   "source": [
    "lista = IntermediarioRemoto_MG\n",
    "lista = lista['index'] + 1\n",
    "\n",
    "select(3, 'F',2017)\n",
    "select(3, 'F',2018)\n",
    "select(3, 'F',2019)\n",
    "select(3, 'F',2020)\n",
    "select(3, 'F',2021)\n",
    "select(3, 'F',2022)\n",
    "\n",
    "select(3, 'M',2017)\n",
    "select(3, 'M',2018)\n",
    "select(3, 'M',2019)\n",
    "select(3, 'M',2020)\n",
    "select(3, 'M',2021)\n",
    "select(3, 'M',2022)"
   ]
  },
  {
   "cell_type": "markdown",
   "id": "a78f10c8",
   "metadata": {},
   "source": [
    "| tipologia/estado  | Quant de Municipios  | baixou |\n",
    "|-------------------|-------|--------|\n",
    "| IntermediarioRemoto_MA | -    |  -    |\n",
    "| IntermediarioRemoto_PI | 2  |  OK   |\n",
    "| IntermediarioRemoto_CE | -  |   -   |\n",
    "| IntermediarioRemoto_RN |  - |   -   |\n",
    "| IntermediarioRemoto_PB | -  |   -   |\n",
    "| IntermediarioRemoto_PE | 1 |   OK   |\n",
    "| IntermediarioRemoto_AL | -  |   -     |\n",
    "| IntermediarioRemoto_SE | -  |    -    |\n",
    "| IntermediarioRemoto_BA | 1  |   OK     |\n",
    "| IntermediarioRemoto_MG |  3  |    OK    |\n",
    "| IntermediarioRemoto_ES |   -  |   -     |"
   ]
  },
  {
   "cell_type": "code",
   "execution_count": null,
   "id": "bbcf3a58",
   "metadata": {},
   "outputs": [],
   "source": [
    "4*12"
   ]
  },
  {
   "cell_type": "markdown",
   "id": "c7ea202c",
   "metadata": {},
   "source": [
    "### QUANTIDADE DE ARQUIVOS DISTRIBUIDOS POR TIPOLOGIA, ESTADO, SEXO E ANO:"
   ]
  },
  {
   "cell_type": "markdown",
   "id": "58727efa",
   "metadata": {},
   "source": [
    "* IntermediarioRemoto: 48\n",
    "* IntermediarioAdjacente : 120\n",
    "* RuralRemoto: 36\n",
    "* RuralAdjacente: 132\n",
    "* Urbano: 120"
   ]
  },
  {
   "cell_type": "markdown",
   "id": "112d1a59",
   "metadata": {},
   "source": [
    "Verificando se o arquivo excel que peguei a lista de municipios do semiario, está a mesma relação com a lista que saiu oficial "
   ]
  },
  {
   "cell_type": "code",
   "execution_count": null,
   "id": "485bf3e0",
   "metadata": {},
   "outputs": [],
   "source": [
    "\n",
    "import pandas as pd\n",
    "\n",
    "# arquivo que pegeui antes de sair o oficial\n",
    "MS_1 = pd.read_excel('lista_municipios_Semiarido_2022.xls')\n",
    "MS_1"
   ]
  },
  {
   "cell_type": "code",
   "execution_count": null,
   "id": "1494f293",
   "metadata": {},
   "outputs": [],
   "source": [
    "# listagem oficial de municipios \n",
    "MS_2 = pd.read_excel('lista_municipios_Semiarido_2022_definitivo.xlsx')\n",
    "MS_2"
   ]
  },
  {
   "cell_type": "code",
   "execution_count": null,
   "id": "ec742acc",
   "metadata": {},
   "outputs": [],
   "source": [
    "# Verifica se todos os códigos em df1 estão em df2\n",
    "todos_iguais = MS_1['CD_MUN'].isin(MS_2['CD_MUN']).all()\n",
    "\n",
    "if todos_iguais:\n",
    "    print(\"Todos os códigos em df1 estão em df2.\")\n",
    "else:\n",
    "    print(\"Existem códigos em df1 que não estão em df2.\")"
   ]
  }
 ],
 "metadata": {
  "kernelspec": {
   "display_name": "Python 3 (ipykernel)",
   "language": "python",
   "name": "python3"
  },
  "language_info": {
   "codemirror_mode": {
    "name": "ipython",
    "version": 3
   },
   "file_extension": ".py",
   "mimetype": "text/x-python",
   "name": "python",
   "nbconvert_exporter": "python",
   "pygments_lexer": "ipython3",
   "version": "3.10.9"
  }
 },
 "nbformat": 4,
 "nbformat_minor": 5
}
